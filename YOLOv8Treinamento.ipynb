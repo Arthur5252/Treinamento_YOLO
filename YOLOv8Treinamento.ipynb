{
 "cells": [
  {
   "cell_type": "markdown",
   "metadata": {
    "id": "cEN7J7gLBnGV"
   },
   "source": [
    "# YOLOv8 - Treinamento de modelo customizado\n",
    "\n",
    "Lembrando que o dataset que criamos em aula já se encontra devidamente anotado e convertido para o formato usado pelo YOLO. Isso foi explicado detalhadamente na aula sobre criação do dataset, onde além de fazer a preparação é feito o download de imagens do Open Images Dataset direto pelo Colab.\n",
    "\n",
    "Caso deseje treinar outros objetos:\n",
    "* Pode procurar pelo [Open Images Dataset](https://storage.googleapis.com/openimages/web/index.html) ou [Kaggle](https://www.kaggle.com) por exemplo, se há um dataset para a classe que deseja detectar.\n",
    "* Ou pode criar você mesmo o dataset.\n",
    "Além do LabelImg (que mostramos no curso como é possível fazer a anotação) segue outras ferramentas para fazer a anotação direto pelo navegador e assim não precisar baixar nenhum programa:\n",
    "  * [MakeSense.ai](https://www.makesense.ai), [CVAT](https://www.cvat.ai), ou ainda a plataforma do [Roboflow](https://app.roboflow.com/login) (inclusive eles oferecem uma integração mais direta com YOLOv8).\n",
    "\n",
    "Obs: se o seu dataset estiver em outro formato de anotação que não seja do YOLO nem o padrão usado pelo OID, então você pode adaptar o nosso script de conversão de anotações, ou ainda dar uma olhada nas ferramentas que o Roboflow oferece para converter o formato das anotações: https://roboflow.com/formats/yolov8-pytorch-txt"
   ]
  },
  {
   "cell_type": "code",
   "execution_count": 3,
   "metadata": {
    "id": "mKLsbDc8Q9m-"
   },
   "outputs": [],
   "source": [
    "from ultralytics import YOLO\n",
    "import os\n",
    "import cv2\n",
    "import matplotlib.pyplot as plt"
   ]
  },
  {
   "cell_type": "markdown",
   "metadata": {
    "id": "SPWacgRSGv0C"
   },
   "source": [
    "> **Parâmetros da função de treinamento:**\n",
    "\n",
    "* task: o que queremos com o treinamento. Como estamos trabalhando com detecção de objetos, deixe o valor = detect. Outras opções aceitas: segment, e classify. É opcional passarmos se queremos detecção, pois por padrão ele já considera como sendo detecção a não ser que especifique outra forma.\n",
    "* mode: pode ser train, val, ou predict. Como estamos fazendo pela forma usando python e queremos o treinamento vamos usar a função train(), portanto esse parâmetro se torna desnecessário .\n",
    "* **model**: o modelo pré-treinado que queremos usar como \"partida\". Pode ser o YOLOv8 Nano (YOLOv8n), YOLOv8 Small (YOLOv8s), etc.\n",
    "* **imgsz**: O tamanho da imagem, que a rede realiza o processamento (obs: você não precisa redimensionar a imagem para esse tamanho antes, o algoritmo cuida dessa parte antes de passar a imagem de entrada para a rede). A resolução padrão é 640x640 pixels, portanto o valor padrão é 640. Quando maior o tamanho mais precisa é a detecção, principalmente para objetos com detalhes pequenos, porém é mais demorado o treinamento e detecção.  \n",
    "* **data**: caminho para o arquivo YAML. Esse é o arquivo que criamos acima, que contém o caminho para o conjunto de treinamento e validaçao, além disso deve conter os nomes das classes que queremos treinar.\n",
    "* **epochs**: Numero de epocas que desejamos treinar.\n",
    "* **batch**: O tamanho do batch (lote) para o carregador de dados. Você pode aumentá-lo ou diminuí-lo de acordo com a disponibilidade de memória de sua GPU, por exemplo caso venha a encontrar problema de memória. O valor padrão é 16.\n",
    "* **name**: Nome do diretório de resultados para o runs/detect. (opcional)\n",
    "\n",
    "Em nossos testes vamos escolher o Nano, ou até mesmo o Small, pois queremos que seja um treinamento relativamente mais rápido"
   ]
  },
  {
   "cell_type": "markdown",
   "metadata": {
    "id": "EUWc99l85h0j"
   },
   "source": [
    "### Avaliação (Verificando o mAP do modelo)"
   ]
  },
  {
   "cell_type": "code",
   "execution_count": 10,
   "metadata": {
    "id": "I_kfgpARkFb1"
   },
   "outputs": [],
   "source": [
    "import locale\n",
    "locale.getpreferredencoding = lambda: \"UTF-8\""
   ]
  },
  {
   "cell_type": "code",
   "execution_count": 11,
   "metadata": {
    "id": "kwv-2blyXT6w"
   },
   "outputs": [
    {
     "name": "stdout",
     "output_type": "stream",
     "text": [
      "Ultralytics 8.3.51 🚀 Python-3.12.5 torch-2.5.1+cpu CPU (Intel Core(TM) i7-14700KF)\n",
      "YOLOv8s summary (fused): 168 layers, 11,129,067 parameters, 0 gradients, 28.5 GFLOPs\n",
      "                   all        686       1041      0.376      0.265      0.253      0.134\n",
      "               Bicycle        100        154        0.2      0.142     0.0874      0.035\n",
      "                   Car        108        196      0.379      0.112      0.142     0.0768\n",
      "                Stairs        100        117      0.365      0.103      0.119     0.0434\n",
      "         Traffic light         61        131      0.155      0.473      0.367      0.192\n",
      "            Motorcycle        100        140      0.598      0.271      0.353      0.173\n",
      "                   Bus        101        139      0.698      0.281      0.401      0.257\n",
      "          Fire hydrant         57         57      0.472      0.421      0.448      0.234\n",
      "         Parking meter          3          3      0.269      0.333      0.207      0.127\n",
      "                  Taxi         70        104      0.248       0.25      0.151     0.0685\n",
      "Speed: 0.3ms preprocess, 35.3ms inference, 0.0ms loss, 0.3ms postprocess per image\n",
      "Results saved to \u001b[1mruns\\detect\\yolov8s_modelo_eval\u001b[0m\n",
      "💡 Learn more at https://docs.ultralytics.com/modes/val\n"
     ]
    },
    {
     "name": "stderr",
     "output_type": "stream",
     "text": [
      "\n",
      "\u001b[34m\u001b[1mval: \u001b[0mScanning C:\\Users\\Arthur\\3_ambiente_de_testes\\deteccao_objetos\\dataset\\valid.cache... 686 images, 0 backgrounds, 0 corrupt: 100%|██████████| 686/686 [00:00<?, ?it/s]\n",
      "\u001b[34m\u001b[1mval: \u001b[0mScanning C:\\Users\\Arthur\\3_ambiente_de_testes\\deteccao_objetos\\dataset\\valid.cache... 686 images, 0 backgrounds, 0 corrupt: 100%|██████████| 686/686 [00:00<?, ?it/s]\n",
      "\n",
      "                 Class     Images  Instances      Box(P          R      mAP50  mAP50-95):   0%|          | 0/43 [00:00<?, ?it/s]\n",
      "                 Class     Images  Instances      Box(P          R      mAP50  mAP50-95):   2%|▏         | 1/43 [00:00<00:23,  1.76it/s]\n",
      "                 Class     Images  Instances      Box(P          R      mAP50  mAP50-95):   5%|▍         | 2/43 [00:01<00:22,  1.82it/s]\n",
      "                 Class     Images  Instances      Box(P          R      mAP50  mAP50-95):   7%|▋         | 3/43 [00:01<00:23,  1.72it/s]\n",
      "                 Class     Images  Instances      Box(P          R      mAP50  mAP50-95):   9%|▉         | 4/43 [00:02<00:23,  1.67it/s]\n",
      "                 Class     Images  Instances      Box(P          R      mAP50  mAP50-95):  12%|█▏        | 5/43 [00:02<00:23,  1.65it/s]\n",
      "                 Class     Images  Instances      Box(P          R      mAP50  mAP50-95):  14%|█▍        | 6/43 [00:03<00:22,  1.64it/s]\n",
      "                 Class     Images  Instances      Box(P          R      mAP50  mAP50-95):  16%|█▋        | 7/43 [00:04<00:21,  1.64it/s]\n",
      "                 Class     Images  Instances      Box(P          R      mAP50  mAP50-95):  19%|█▊        | 8/43 [00:04<00:21,  1.63it/s]\n",
      "                 Class     Images  Instances      Box(P          R      mAP50  mAP50-95):  21%|██        | 9/43 [00:05<00:20,  1.63it/s]\n",
      "                 Class     Images  Instances      Box(P          R      mAP50  mAP50-95):  23%|██▎       | 10/43 [00:06<00:20,  1.64it/s]\n",
      "                 Class     Images  Instances      Box(P          R      mAP50  mAP50-95):  26%|██▌       | 11/43 [00:06<00:19,  1.63it/s]\n",
      "                 Class     Images  Instances      Box(P          R      mAP50  mAP50-95):  28%|██▊       | 12/43 [00:07<00:18,  1.63it/s]\n",
      "                 Class     Images  Instances      Box(P          R      mAP50  mAP50-95):  30%|███       | 13/43 [00:07<00:18,  1.64it/s]\n",
      "                 Class     Images  Instances      Box(P          R      mAP50  mAP50-95):  33%|███▎      | 14/43 [00:08<00:17,  1.63it/s]\n",
      "                 Class     Images  Instances      Box(P          R      mAP50  mAP50-95):  35%|███▍      | 15/43 [00:09<00:17,  1.63it/s]\n",
      "                 Class     Images  Instances      Box(P          R      mAP50  mAP50-95):  37%|███▋      | 16/43 [00:09<00:16,  1.63it/s]\n",
      "                 Class     Images  Instances      Box(P          R      mAP50  mAP50-95):  40%|███▉      | 17/43 [00:10<00:16,  1.57it/s]\n",
      "                 Class     Images  Instances      Box(P          R      mAP50  mAP50-95):  42%|████▏     | 18/43 [00:11<00:16,  1.52it/s]\n",
      "                 Class     Images  Instances      Box(P          R      mAP50  mAP50-95):  44%|████▍     | 19/43 [00:11<00:16,  1.50it/s]\n",
      "                 Class     Images  Instances      Box(P          R      mAP50  mAP50-95):  47%|████▋     | 20/43 [00:12<00:15,  1.47it/s]\n",
      "                 Class     Images  Instances      Box(P          R      mAP50  mAP50-95):  49%|████▉     | 21/43 [00:13<00:15,  1.45it/s]\n",
      "                 Class     Images  Instances      Box(P          R      mAP50  mAP50-95):  51%|█████     | 22/43 [00:13<00:14,  1.45it/s]\n",
      "                 Class     Images  Instances      Box(P          R      mAP50  mAP50-95):  53%|█████▎    | 23/43 [00:14<00:13,  1.44it/s]\n",
      "                 Class     Images  Instances      Box(P          R      mAP50  mAP50-95):  56%|█████▌    | 24/43 [00:15<00:13,  1.44it/s]\n",
      "                 Class     Images  Instances      Box(P          R      mAP50  mAP50-95):  58%|█████▊    | 25/43 [00:16<00:12,  1.44it/s]\n",
      "                 Class     Images  Instances      Box(P          R      mAP50  mAP50-95):  60%|██████    | 26/43 [00:16<00:11,  1.44it/s]\n",
      "                 Class     Images  Instances      Box(P          R      mAP50  mAP50-95):  63%|██████▎   | 27/43 [00:17<00:11,  1.43it/s]\n",
      "                 Class     Images  Instances      Box(P          R      mAP50  mAP50-95):  65%|██████▌   | 28/43 [00:18<00:11,  1.35it/s]\n",
      "                 Class     Images  Instances      Box(P          R      mAP50  mAP50-95):  67%|██████▋   | 29/43 [00:18<00:10,  1.39it/s]\n",
      "                 Class     Images  Instances      Box(P          R      mAP50  mAP50-95):  70%|██████▉   | 30/43 [00:19<00:09,  1.41it/s]\n",
      "                 Class     Images  Instances      Box(P          R      mAP50  mAP50-95):  72%|███████▏  | 31/43 [00:20<00:08,  1.42it/s]\n",
      "                 Class     Images  Instances      Box(P          R      mAP50  mAP50-95):  74%|███████▍  | 32/43 [00:21<00:07,  1.42it/s]\n",
      "                 Class     Images  Instances      Box(P          R      mAP50  mAP50-95):  77%|███████▋  | 33/43 [00:21<00:07,  1.37it/s]\n",
      "                 Class     Images  Instances      Box(P          R      mAP50  mAP50-95):  79%|███████▉  | 34/43 [00:22<00:07,  1.27it/s]\n",
      "                 Class     Images  Instances      Box(P          R      mAP50  mAP50-95):  81%|████████▏ | 35/43 [00:23<00:06,  1.20it/s]\n",
      "                 Class     Images  Instances      Box(P          R      mAP50  mAP50-95):  84%|████████▎ | 36/43 [00:24<00:06,  1.16it/s]\n",
      "                 Class     Images  Instances      Box(P          R      mAP50  mAP50-95):  86%|████████▌ | 37/43 [00:25<00:05,  1.19it/s]\n",
      "                 Class     Images  Instances      Box(P          R      mAP50  mAP50-95):  88%|████████▊ | 38/43 [00:26<00:03,  1.25it/s]\n",
      "                 Class     Images  Instances      Box(P          R      mAP50  mAP50-95):  91%|█████████ | 39/43 [00:26<00:03,  1.30it/s]\n",
      "                 Class     Images  Instances      Box(P          R      mAP50  mAP50-95):  93%|█████████▎| 40/43 [00:27<00:02,  1.33it/s]\n",
      "                 Class     Images  Instances      Box(P          R      mAP50  mAP50-95):  95%|█████████▌| 41/43 [00:28<00:01,  1.39it/s]\n",
      "                 Class     Images  Instances      Box(P          R      mAP50  mAP50-95):  98%|█████████▊| 42/43 [00:28<00:00,  1.44it/s]\n",
      "                 Class     Images  Instances      Box(P          R      mAP50  mAP50-95): 100%|██████████| 43/43 [00:29<00:00,  1.53it/s]\n",
      "                 Class     Images  Instances      Box(P          R      mAP50  mAP50-95): 100%|██████████| 43/43 [00:29<00:00,  1.47it/s]\n"
     ]
    }
   ],
   "source": [
    "!yolo task=detect mode=val model={dir_resultado}/weights/best.pt name=yolov8s_modelo_eval data=configs_modelo.yaml"
   ]
  },
  {
   "cell_type": "markdown",
   "metadata": {
    "id": "bYjZO4usSqkm"
   },
   "source": [
    "### Exibindo os gráficos"
   ]
  },
  {
   "cell_type": "code",
   "execution_count": 15,
   "metadata": {
    "id": "hF47axpXYyg0"
   },
   "outputs": [],
   "source": [
    "dir_resultado_val = 'runs/detect/yolov8s_modelo_eval'"
   ]
  },
  {
   "cell_type": "markdown",
   "metadata": {
    "id": "Cled_TZS_f5d"
   },
   "source": [
    "## Testando o modelo treinado\n"
   ]
  },
  {
   "cell_type": "code",
   "execution_count": 18,
   "metadata": {
    "colab": {
     "base_uri": "https://localhost:8080/"
    },
    "executionInfo": {
     "elapsed": 8464,
     "status": "ok",
     "timestamp": 1675951002235,
     "user": {
      "displayName": "Jones Granatyr",
      "userId": "10042675233362078631"
     },
     "user_tz": 180
    },
    "id": "x2sJEiEOcWU_",
    "outputId": "48c82028-65b9-4e62-a9c8-6e9aeb4a01a1"
   },
   "outputs": [
    {
     "name": "stdout",
     "output_type": "stream",
     "text": [
      "Ultralytics 8.3.51 🚀 Python-3.12.5 torch-2.5.1+cpu CPU (Intel Core(TM) i7-14700KF)\n",
      "YOLOv8s summary (fused): 168 layers, 11,129,067 parameters, 0 gradients, 28.5 GFLOPs\n",
      "\n",
      "image 1/1 C:\\Users\\Arthur\\3_ambiente_de_testes\\deteccao_objetos\\imagens_teste\\payload.jpg: 640x640 8 Bicycles, 2 Cars, 1 Traffic light, 87.9ms\n",
      "Speed: 0.0ms preprocess, 87.9ms inference, 0.0ms postprocess per image at shape (1, 3, 640, 640)\n",
      "Results saved to \u001b[1mruns\\detect\\predict\u001b[0m\n",
      "💡 Learn more at https://docs.ultralytics.com/modes/predict\n"
     ]
    }
   ],
   "source": [
    "!yolo task=detect mode=predict model={dir_resultado}/weights/best.pt source=r'C:\\Users\\Arthur\\3_ambiente_de_testes\\deteccao_objetos\\imagens_teste' save=true conf=0.05"
   ]
  },
  {
   "cell_type": "markdown",
   "metadata": {
    "id": "awABTMQ5dXTH"
   },
   "source": [
    "## treinamento CLI\n",
    "\n"
   ]
  },
  {
   "cell_type": "code",
   "execution_count": 16,
   "metadata": {
    "colab": {
     "base_uri": "https://localhost:8080/"
    },
    "executionInfo": {
     "elapsed": 577169,
     "status": "ok",
     "timestamp": 1675951871084,
     "user": {
      "displayName": "Jones Granatyr",
      "userId": "10042675233362078631"
     },
     "user_tz": 180
    },
    "id": "YXqUaJWNea_e",
    "outputId": "70ab2469-7b6f-42b6-ce6a-965e619cd8f9"
   },
   "outputs": [
    {
     "name": "stdout",
     "output_type": "stream",
     "text": [
      "New https://pypi.org/project/ultralytics/8.3.57 available 😃 Update with 'pip install -U ultralytics'\n",
      "Ultralytics 8.3.51 🚀 Python-3.12.5 torch-2.5.1+cpu CPU (Intel Core(TM) i7-14700KF)\n",
      "\u001b[34m\u001b[1mengine\\trainer: \u001b[0mtask=detect, mode=train, model=C:\\Users\\Arthur\\3_ambiente_de_testes\\deteccao_objetos\\runs\\detect\\train4\\weights\\last.pt, data=configs_modelo.yaml, epochs=10, time=None, patience=100, batch=128, imgsz=640, save=True, save_period=-1, cache=False, device=None, workers=8, project=None, name=train5, exist_ok=False, pretrained=True, optimizer=auto, verbose=True, seed=0, deterministic=True, single_cls=False, rect=False, cos_lr=False, close_mosaic=10, resume=False, amp=True, fraction=1.0, profile=False, freeze=None, multi_scale=False, overlap_mask=True, mask_ratio=4, dropout=0.0, val=True, split=val, save_json=False, save_hybrid=False, conf=None, iou=0.7, max_det=300, half=False, dnn=False, plots=True, source=None, vid_stride=1, stream_buffer=False, visualize=False, augment=False, agnostic_nms=False, classes=None, retina_masks=False, embed=None, show=False, save_frames=False, save_txt=False, save_conf=False, save_crop=False, show_labels=True, show_conf=True, show_boxes=True, line_width=None, format=torchscript, keras=False, optimize=False, int8=False, dynamic=False, simplify=True, opset=None, workspace=None, nms=False, lr0=0.01, lrf=0.01, momentum=0.937, weight_decay=0.0005, warmup_epochs=3.0, warmup_momentum=0.8, warmup_bias_lr=0.1, box=7.5, cls=0.5, dfl=1.5, pose=12.0, kobj=1.0, nbs=64, hsv_h=0.015, hsv_s=0.7, hsv_v=0.4, degrees=0.0, translate=0.1, scale=0.5, shear=0.0, perspective=0.0, flipud=0.0, fliplr=0.5, bgr=0.0, mosaic=1.0, mixup=0.0, copy_paste=0.0, copy_paste_mode=flip, auto_augment=randaugment, erasing=0.4, crop_fraction=1.0, cfg=None, tracker=botsort.yaml, save_dir=runs\\detect\\train5\n",
      "\n",
      "                   from  n    params  module                                       arguments                     \n",
      "  0                  -1  1       928  ultralytics.nn.modules.conv.Conv             [3, 32, 3, 2]                 \n",
      "  1                  -1  1     18560  ultralytics.nn.modules.conv.Conv             [32, 64, 3, 2]                \n",
      "  2                  -1  1     29056  ultralytics.nn.modules.block.C2f             [64, 64, 1, True]             \n",
      "  3                  -1  1     73984  ultralytics.nn.modules.conv.Conv             [64, 128, 3, 2]               \n",
      "  4                  -1  2    197632  ultralytics.nn.modules.block.C2f             [128, 128, 2, True]           \n",
      "  5                  -1  1    295424  ultralytics.nn.modules.conv.Conv             [128, 256, 3, 2]              \n",
      "  6                  -1  2    788480  ultralytics.nn.modules.block.C2f             [256, 256, 2, True]           \n",
      "  7                  -1  1   1180672  ultralytics.nn.modules.conv.Conv             [256, 512, 3, 2]              \n",
      "  8                  -1  1   1838080  ultralytics.nn.modules.block.C2f             [512, 512, 1, True]           \n",
      "  9                  -1  1    656896  ultralytics.nn.modules.block.SPPF            [512, 512, 5]                 \n",
      " 10                  -1  1         0  torch.nn.modules.upsampling.Upsample         [None, 2, 'nearest']          \n",
      " 11             [-1, 6]  1         0  ultralytics.nn.modules.conv.Concat           [1]                           \n",
      " 12                  -1  1    591360  ultralytics.nn.modules.block.C2f             [768, 256, 1]                 \n",
      " 13                  -1  1         0  torch.nn.modules.upsampling.Upsample         [None, 2, 'nearest']          \n",
      " 14             [-1, 4]  1         0  ultralytics.nn.modules.conv.Concat           [1]                           \n",
      " 15                  -1  1    148224  ultralytics.nn.modules.block.C2f             [384, 128, 1]                 \n",
      " 16                  -1  1    147712  ultralytics.nn.modules.conv.Conv             [128, 128, 3, 2]              \n",
      " 17            [-1, 12]  1         0  ultralytics.nn.modules.conv.Concat           [1]                           \n",
      " 18                  -1  1    493056  ultralytics.nn.modules.block.C2f             [384, 256, 1]                 \n",
      " 19                  -1  1    590336  ultralytics.nn.modules.conv.Conv             [256, 256, 3, 2]              \n",
      " 20             [-1, 9]  1         0  ultralytics.nn.modules.conv.Concat           [1]                           \n",
      " 21                  -1  1   1969152  ultralytics.nn.modules.block.C2f             [768, 512, 1]                 \n",
      " 22        [15, 18, 21]  1   2119531  ultralytics.nn.modules.head.Detect           [9, [128, 256, 512]]          \n",
      "YOLOv8s summary: 225 layers, 11,139,083 parameters, 11,139,067 gradients, 28.7 GFLOPs\n",
      "\n",
      "Transferred 355/355 items from pretrained weights\n",
      "\u001b[34m\u001b[1mTensorBoard: \u001b[0mStart with 'tensorboard --logdir runs\\detect\\train5', view at http://localhost:6006/\n",
      "Freezing layer 'model.22.dfl.conv.weight'\n",
      "\u001b[34m\u001b[1mtrain: \u001b[0mWARNING ⚠️ C:\\Users\\Arthur\\3_ambiente_de_testes\\deteccao_objetos\\dataset\\train\\486495ac4e20c949.jpg: 1 duplicate labels removed\n",
      "Plotting labels to runs\\detect\\train5\\labels.jpg... \n",
      "\u001b[34m\u001b[1moptimizer:\u001b[0m 'optimizer=auto' found, ignoring 'lr0=0.01' and 'momentum=0.937' and determining best 'optimizer', 'lr0' and 'momentum' automatically... \n",
      "\u001b[34m\u001b[1moptimizer:\u001b[0m AdamW(lr=0.000769, momentum=0.9) with parameter groups 57 weight(decay=0.0), 64 weight(decay=0.001), 63 bias(decay=0.0)\n",
      "\u001b[34m\u001b[1mTensorBoard: \u001b[0mmodel graph visualization added ✅\n",
      "Image sizes 640 train, 640 val\n",
      "Using 0 dataloader workers\n",
      "Logging results to \u001b[1mruns\\detect\\train5\u001b[0m\n",
      "Starting training for 10 epochs...\n",
      "Closing dataloader mosaic\n",
      "\n",
      "      Epoch    GPU_mem   box_loss   cls_loss   dfl_loss  Instances       Size\n",
      "                   all        686       1041      0.713      0.636      0.665      0.479\n",
      "\n",
      "      Epoch    GPU_mem   box_loss   cls_loss   dfl_loss  Instances       Size\n",
      "                   all        686       1041      0.616      0.609      0.584      0.395\n",
      "\n",
      "      Epoch    GPU_mem   box_loss   cls_loss   dfl_loss  Instances       Size\n",
      "                   all        686       1041      0.602      0.584      0.601      0.412\n",
      "\n",
      "      Epoch    GPU_mem   box_loss   cls_loss   dfl_loss  Instances       Size\n",
      "                   all        686       1041      0.631      0.593      0.613      0.423\n",
      "\n",
      "      Epoch    GPU_mem   box_loss   cls_loss   dfl_loss  Instances       Size\n",
      "                   all        686       1041      0.633      0.565      0.602      0.419\n",
      "\n",
      "      Epoch    GPU_mem   box_loss   cls_loss   dfl_loss  Instances       Size\n",
      "                   all        686       1041      0.611      0.605       0.59      0.406\n",
      "\n",
      "      Epoch    GPU_mem   box_loss   cls_loss   dfl_loss  Instances       Size\n",
      "                   all        686       1041      0.681      0.626      0.653      0.468\n",
      "\n",
      "      Epoch    GPU_mem   box_loss   cls_loss   dfl_loss  Instances       Size\n",
      "                   all        686       1041      0.613      0.688      0.669      0.471\n",
      "\n",
      "      Epoch    GPU_mem   box_loss   cls_loss   dfl_loss  Instances       Size\n",
      "                   all        686       1041      0.729      0.591      0.661      0.471\n",
      "\n",
      "      Epoch    GPU_mem   box_loss   cls_loss   dfl_loss  Instances       Size\n",
      "                   all        686       1041      0.667      0.679       0.68      0.486\n",
      "\n",
      "10 epochs completed in 3.223 hours.\n",
      "Optimizer stripped from runs\\detect\\train5\\weights\\last.pt, 22.5MB\n",
      "Optimizer stripped from runs\\detect\\train5\\weights\\best.pt, 22.5MB\n",
      "\n",
      "Validating runs\\detect\\train5\\weights\\best.pt...\n",
      "Ultralytics 8.3.51 🚀 Python-3.12.5 torch-2.5.1+cpu CPU (Intel Core(TM) i7-14700KF)\n",
      "YOLOv8s summary (fused): 168 layers, 11,129,067 parameters, 0 gradients, 28.5 GFLOPs\n",
      "                   all        686       1041      0.666      0.679       0.68      0.487\n",
      "               Bicycle        100        154      0.591      0.565      0.603      0.366\n",
      "                   Car        108        196      0.588      0.505      0.489      0.351\n",
      "                Stairs        100        117      0.545      0.496      0.458      0.214\n",
      "         Traffic light         61        131      0.554      0.672      0.596      0.327\n",
      "            Motorcycle        100        140      0.659      0.636      0.649      0.419\n",
      "                   Bus        101        139      0.833      0.719      0.787      0.645\n",
      "          Fire hydrant         57         57      0.919      0.982      0.978      0.788\n",
      "         Parking meter          3          3      0.738          1      0.913      0.821\n",
      "                  Taxi         70        104      0.569      0.538      0.649      0.446\n",
      "Speed: 0.6ms preprocess, 57.0ms inference, 0.0ms loss, 0.1ms postprocess per image\n",
      "Results saved to \u001b[1mruns\\detect\\train5\u001b[0m\n",
      "💡 Learn more at https://docs.ultralytics.com/modes/train\n"
     ]
    },
    {
     "name": "stderr",
     "output_type": "stream",
     "text": [
      "\n",
      "\u001b[34m\u001b[1mtrain: \u001b[0mScanning C:\\Users\\Arthur\\3_ambiente_de_testes\\deteccao_objetos\\dataset\\train.cache... 4040 images, 0 backgrounds, 0 corrupt: 100%|██████████| 4040/4040 [00:00<?, ?it/s]\n",
      "\u001b[34m\u001b[1mtrain: \u001b[0mScanning C:\\Users\\Arthur\\3_ambiente_de_testes\\deteccao_objetos\\dataset\\train.cache... 4040 images, 0 backgrounds, 0 corrupt: 100%|██████████| 4040/4040 [00:00<?, ?it/s]\n",
      "\n",
      "\u001b[34m\u001b[1mval: \u001b[0mScanning C:\\Users\\Arthur\\3_ambiente_de_testes\\deteccao_objetos\\dataset\\valid.cache... 686 images, 0 backgrounds, 0 corrupt: 100%|██████████| 686/686 [00:00<?, ?it/s]\n",
      "\u001b[34m\u001b[1mval: \u001b[0mScanning C:\\Users\\Arthur\\3_ambiente_de_testes\\deteccao_objetos\\dataset\\valid.cache... 686 images, 0 backgrounds, 0 corrupt: 100%|██████████| 686/686 [00:00<?, ?it/s]\n",
      "\n",
      "  0%|          | 0/32 [00:00<?, ?it/s]\n",
      "       1/10         0G      1.057     0.8735      1.332        312        640:   0%|          | 0/32 [00:32<?, ?it/s]\n",
      "       1/10         0G      1.057     0.8735      1.332        312        640:   3%|▎         | 1/32 [00:32<16:32, 32.01s/it]\n",
      "       1/10         0G      1.071     0.9045      1.373        298        640:   3%|▎         | 1/32 [01:03<16:32, 32.01s/it]\n",
      "       1/10         0G      1.071     0.9045      1.373        298        640:   6%|▋         | 2/32 [01:03<15:50, 31.67s/it]\n",
      "       1/10         0G      1.062     0.9306       1.38        301        640:   6%|▋         | 2/32 [01:36<15:50, 31.67s/it]\n",
      "       1/10         0G      1.062     0.9306       1.38        301        640:   9%|▉         | 3/32 [01:36<15:38, 32.37s/it]\n",
      "       1/10         0G      1.062     0.9287      1.368        271        640:   9%|▉         | 3/32 [02:07<15:38, 32.37s/it]\n",
      "       1/10         0G      1.062     0.9287      1.368        271        640:  12%|█▎        | 4/32 [02:07<14:52, 31.87s/it]\n",
      "       1/10         0G      1.058     0.9285      1.366        275        640:  12%|█▎        | 4/32 [02:44<14:52, 31.87s/it]\n",
      "       1/10         0G      1.058     0.9285      1.366        275        640:  16%|█▌        | 5/32 [02:44<15:05, 33.55s/it]\n",
      "       1/10         0G       1.07     0.9323      1.369        322        640:  16%|█▌        | 5/32 [03:30<15:05, 33.55s/it]\n",
      "       1/10         0G       1.07     0.9323      1.369        322        640:  19%|█▉        | 6/32 [03:30<16:23, 37.81s/it]\n",
      "       1/10         0G      1.066     0.9332      1.361        253        640:  19%|█▉        | 6/32 [04:06<16:23, 37.81s/it]\n",
      "       1/10         0G      1.066     0.9332      1.361        253        640:  22%|██▏       | 7/32 [04:06<15:28, 37.16s/it]\n",
      "       1/10         0G      1.076     0.9407      1.367        340        640:  22%|██▏       | 7/32 [04:36<15:28, 37.16s/it]\n",
      "       1/10         0G      1.076     0.9407      1.367        340        640:  25%|██▌       | 8/32 [04:36<14:00, 35.03s/it]\n",
      "       1/10         0G       1.08     0.9416      1.377        264        640:  25%|██▌       | 8/32 [05:07<14:00, 35.03s/it]\n",
      "       1/10         0G       1.08     0.9416      1.377        264        640:  28%|██▊       | 9/32 [05:07<12:52, 33.59s/it]\n",
      "       1/10         0G      1.081     0.9415      1.375        291        640:  28%|██▊       | 9/32 [05:37<12:52, 33.59s/it]\n",
      "       1/10         0G      1.081     0.9415      1.375        291        640:  31%|███▏      | 10/32 [05:37<11:56, 32.56s/it]\n",
      "       1/10         0G      1.074     0.9371      1.375        255        640:  31%|███▏      | 10/32 [06:08<11:56, 32.56s/it]\n",
      "       1/10         0G      1.074     0.9371      1.375        255        640:  34%|███▍      | 11/32 [06:08<11:14, 32.11s/it]\n",
      "       1/10         0G      1.064     0.9283      1.373        236        640:  34%|███▍      | 11/32 [06:39<11:14, 32.11s/it]\n",
      "       1/10         0G      1.064     0.9283      1.373        236        640:  38%|███▊      | 12/32 [06:39<10:36, 31.85s/it]\n",
      "       1/10         0G      1.065     0.9279      1.377        298        640:  38%|███▊      | 12/32 [07:23<10:36, 31.85s/it]\n",
      "       1/10         0G      1.065     0.9279      1.377        298        640:  41%|████      | 13/32 [07:23<11:14, 35.52s/it]\n",
      "       1/10         0G       1.07     0.9298      1.383        286        640:  41%|████      | 13/32 [08:07<11:14, 35.52s/it]\n",
      "       1/10         0G       1.07     0.9298      1.383        286        640:  44%|████▍     | 14/32 [08:07<11:25, 38.11s/it]\n",
      "       1/10         0G      1.076     0.9315      1.388        300        640:  44%|████▍     | 14/32 [08:54<11:25, 38.11s/it]\n",
      "       1/10         0G      1.076     0.9315      1.388        300        640:  47%|████▋     | 15/32 [08:54<11:33, 40.82s/it]\n",
      "       1/10         0G      1.074      0.933      1.385        274        640:  47%|████▋     | 15/32 [09:42<11:33, 40.82s/it]\n",
      "       1/10         0G      1.074      0.933      1.385        274        640:  50%|█████     | 16/32 [09:42<11:27, 42.98s/it]\n",
      "       1/10         0G      1.075     0.9363      1.388        279        640:  50%|█████     | 16/32 [10:27<11:27, 42.98s/it]\n",
      "       1/10         0G      1.075     0.9363      1.388        279        640:  53%|█████▎    | 17/32 [10:27<10:51, 43.44s/it]\n",
      "       1/10         0G      1.072     0.9411      1.388        275        640:  53%|█████▎    | 17/32 [11:10<10:51, 43.44s/it]\n",
      "       1/10         0G      1.072     0.9411      1.388        275        640:  56%|█████▋    | 18/32 [11:10<10:05, 43.24s/it]\n",
      "       1/10         0G       1.07     0.9364      1.383        322        640:  56%|█████▋    | 18/32 [11:48<10:05, 43.24s/it]\n",
      "       1/10         0G       1.07     0.9364      1.383        322        640:  59%|█████▉    | 19/32 [11:48<09:02, 41.73s/it]\n",
      "       1/10         0G      1.069     0.9373      1.384        271        640:  59%|█████▉    | 19/32 [12:33<09:02, 41.73s/it]\n",
      "       1/10         0G      1.069     0.9373      1.384        271        640:  62%|██████▎   | 20/32 [12:33<08:33, 42.83s/it]\n",
      "       1/10         0G      1.068     0.9337      1.385        258        640:  62%|██████▎   | 20/32 [13:18<08:33, 42.83s/it]\n",
      "       1/10         0G      1.068     0.9337      1.385        258        640:  66%|██████▌   | 21/32 [13:18<07:59, 43.55s/it]\n",
      "       1/10         0G      1.068     0.9319      1.386        260        640:  66%|██████▌   | 21/32 [13:52<07:59, 43.55s/it]\n",
      "       1/10         0G      1.068     0.9319      1.386        260        640:  69%|██████▉   | 22/32 [13:52<06:46, 40.64s/it]\n",
      "       1/10         0G      1.071     0.9315      1.387        291        640:  69%|██████▉   | 22/32 [14:24<06:46, 40.64s/it]\n",
      "       1/10         0G      1.071     0.9315      1.387        291        640:  72%|███████▏  | 23/32 [14:24<05:42, 38.05s/it]\n",
      "       1/10         0G      1.072     0.9346      1.386        260        640:  72%|███████▏  | 23/32 [15:01<05:42, 38.05s/it]\n",
      "       1/10         0G      1.072     0.9346      1.386        260        640:  75%|███████▌  | 24/32 [15:01<05:01, 37.63s/it]\n",
      "       1/10         0G      1.072     0.9369      1.386        258        640:  75%|███████▌  | 24/32 [15:33<05:01, 37.63s/it]\n",
      "       1/10         0G      1.072     0.9369      1.386        258        640:  78%|███████▊  | 25/32 [15:33<04:12, 36.05s/it]\n",
      "       1/10         0G      1.071     0.9364      1.386        255        640:  78%|███████▊  | 25/32 [16:05<04:12, 36.05s/it]\n",
      "       1/10         0G      1.071     0.9364      1.386        255        640:  81%|████████▏ | 26/32 [16:05<03:28, 34.81s/it]\n",
      "       1/10         0G       1.07     0.9342      1.386        248        640:  81%|████████▏ | 26/32 [16:37<03:28, 34.81s/it]\n",
      "       1/10         0G       1.07     0.9342      1.386        248        640:  84%|████████▍ | 27/32 [16:37<02:49, 34.00s/it]\n",
      "       1/10         0G       1.07     0.9341      1.386        253        640:  84%|████████▍ | 27/32 [17:11<02:49, 34.00s/it]\n",
      "       1/10         0G       1.07     0.9341      1.386        253        640:  88%|████████▊ | 28/32 [17:11<02:15, 33.99s/it]\n",
      "       1/10         0G      1.066     0.9319      1.383        237        640:  88%|████████▊ | 28/32 [17:43<02:15, 33.99s/it]\n",
      "       1/10         0G      1.066     0.9319      1.383        237        640:  91%|█████████ | 29/32 [17:43<01:40, 33.37s/it]\n",
      "       1/10         0G      1.065     0.9329      1.383        335        640:  91%|█████████ | 29/32 [18:16<01:40, 33.37s/it]\n",
      "       1/10         0G      1.065     0.9329      1.383        335        640:  94%|█████████▍| 30/32 [18:16<01:06, 33.15s/it]\n",
      "       1/10         0G      1.065     0.9353      1.384        268        640:  94%|█████████▍| 30/32 [18:54<01:06, 33.15s/it]\n",
      "       1/10         0G      1.065     0.9353      1.384        268        640:  97%|█████████▋| 31/32 [18:54<00:34, 34.75s/it]\n",
      "       1/10         0G      1.063     0.9369      1.383        125        640:  97%|█████████▋| 31/32 [19:17<00:34, 34.75s/it]\n",
      "       1/10         0G      1.063     0.9369      1.383        125        640: 100%|██████████| 32/32 [19:17<00:00, 31.01s/it]\n",
      "       1/10         0G      1.063     0.9369      1.383        125        640: 100%|██████████| 32/32 [19:17<00:00, 36.16s/it]\n",
      "\n",
      "                 Class     Images  Instances      Box(P          R      mAP50  mAP50-95):   0%|          | 0/3 [00:00<?, ?it/s]\n",
      "                 Class     Images  Instances      Box(P          R      mAP50  mAP50-95):  33%|███▎      | 1/3 [00:17<00:34, 17.29s/it]\n",
      "                 Class     Images  Instances      Box(P          R      mAP50  mAP50-95):  67%|██████▋   | 2/3 [00:36<00:18, 18.43s/it]\n",
      "                 Class     Images  Instances      Box(P          R      mAP50  mAP50-95): 100%|██████████| 3/3 [00:52<00:00, 17.44s/it]\n",
      "                 Class     Images  Instances      Box(P          R      mAP50  mAP50-95): 100%|██████████| 3/3 [00:52<00:00, 17.59s/it]\n",
      "\n",
      "  0%|          | 0/32 [00:00<?, ?it/s]\n",
      "       2/10         0G     0.9668     0.9239      1.349        244        640:   0%|          | 0/32 [00:31<?, ?it/s]\n",
      "       2/10         0G     0.9668     0.9239      1.349        244        640:   3%|▎         | 1/32 [00:31<16:17, 31.52s/it]\n",
      "       2/10         0G     0.9632     0.9215      1.348        224        640:   3%|▎         | 1/32 [01:02<16:17, 31.52s/it]\n",
      "       2/10         0G     0.9632     0.9215      1.348        224        640:   6%|▋         | 2/32 [01:02<15:27, 30.93s/it]\n",
      "       2/10         0G      1.014     0.9323       1.37        289        640:   6%|▋         | 2/32 [01:34<15:27, 30.93s/it]\n",
      "       2/10         0G      1.014     0.9323       1.37        289        640:   9%|▉         | 3/32 [01:34<15:20, 31.73s/it]\n",
      "       2/10         0G      1.046     0.9357      1.374        315        640:   9%|▉         | 3/32 [02:20<15:20, 31.73s/it]\n",
      "       2/10         0G      1.046     0.9357      1.374        315        640:  12%|█▎        | 4/32 [02:20<17:18, 37.09s/it]\n",
      "       2/10         0G       1.07      0.933      1.382        324        640:  12%|█▎        | 4/32 [03:00<17:18, 37.09s/it]\n",
      "       2/10         0G       1.07      0.933      1.382        324        640:  16%|█▌        | 5/32 [03:00<17:11, 38.21s/it]\n",
      "       2/10         0G      1.062      0.926      1.381        245        640:  16%|█▌        | 5/32 [03:30<17:11, 38.21s/it]\n",
      "       2/10         0G      1.062      0.926      1.381        245        640:  19%|█▉        | 6/32 [03:30<15:23, 35.52s/it]\n",
      "       2/10         0G      1.075     0.9347      1.392        280        640:  19%|█▉        | 6/32 [04:01<15:23, 35.52s/it]\n",
      "       2/10         0G      1.075     0.9347      1.392        280        640:  22%|██▏       | 7/32 [04:01<14:14, 34.17s/it]\n",
      "       2/10         0G      1.089     0.9461      1.398        329        640:  22%|██▏       | 7/32 [04:34<14:14, 34.17s/it]\n",
      "       2/10         0G      1.089     0.9461      1.398        329        640:  25%|██▌       | 8/32 [04:34<13:31, 33.79s/it]\n",
      "       2/10         0G      1.094     0.9563      1.404        297        640:  25%|██▌       | 8/32 [05:06<13:31, 33.79s/it]\n",
      "       2/10         0G      1.094     0.9563      1.404        297        640:  28%|██▊       | 9/32 [05:06<12:43, 33.19s/it]\n",
      "       2/10         0G      1.088     0.9596      1.405        249        640:  28%|██▊       | 9/32 [05:38<12:43, 33.19s/it]\n",
      "       2/10         0G      1.088     0.9596      1.405        249        640:  31%|███▏      | 10/32 [05:38<11:57, 32.63s/it]\n",
      "       2/10         0G      1.092       0.96        1.4        295        640:  31%|███▏      | 10/32 [06:09<11:57, 32.63s/it]\n",
      "       2/10         0G      1.092       0.96        1.4        295        640:  34%|███▍      | 11/32 [06:09<11:16, 32.21s/it]\n",
      "       2/10         0G      1.098     0.9713      1.401        306        640:  34%|███▍      | 11/32 [06:40<11:16, 32.21s/it]\n",
      "       2/10         0G      1.098     0.9713      1.401        306        640:  38%|███▊      | 12/32 [06:40<10:39, 31.97s/it]\n",
      "       2/10         0G      1.098     0.9741        1.4        293        640:  38%|███▊      | 12/32 [07:12<10:39, 31.97s/it]\n",
      "       2/10         0G      1.098     0.9741        1.4        293        640:  41%|████      | 13/32 [07:12<10:03, 31.76s/it]\n",
      "       2/10         0G      1.099     0.9731      1.398        276        640:  41%|████      | 13/32 [07:55<10:03, 31.76s/it]\n",
      "       2/10         0G      1.099     0.9731      1.398        276        640:  44%|████▍     | 14/32 [07:55<10:34, 35.25s/it]\n",
      "       2/10         0G      1.101     0.9836      1.403        265        640:  44%|████▍     | 14/32 [08:40<10:34, 35.25s/it]\n",
      "       2/10         0G      1.101     0.9836      1.403        265        640:  47%|████▋     | 15/32 [08:40<10:49, 38.20s/it]\n",
      "       2/10         0G      1.102     0.9836      1.405        267        640:  47%|████▋     | 15/32 [09:23<10:49, 38.20s/it]\n",
      "       2/10         0G      1.102     0.9836      1.405        267        640:  50%|█████     | 16/32 [09:23<10:36, 39.80s/it]\n",
      "       2/10         0G      1.108     0.9887      1.406        319        640:  50%|█████     | 16/32 [10:09<10:36, 39.80s/it]\n",
      "       2/10         0G      1.108     0.9887      1.406        319        640:  53%|█████▎    | 17/32 [10:09<10:21, 41.45s/it]\n",
      "       2/10         0G      1.111     0.9936      1.412        266        640:  53%|█████▎    | 17/32 [10:44<10:21, 41.45s/it]\n",
      "       2/10         0G      1.111     0.9936      1.412        266        640:  56%|█████▋    | 18/32 [10:44<09:15, 39.71s/it]\n",
      "       2/10         0G      1.111     0.9952      1.413        262        640:  56%|█████▋    | 18/32 [11:17<09:15, 39.71s/it]\n",
      "       2/10         0G      1.111     0.9952      1.413        262        640:  59%|█████▉    | 19/32 [11:17<08:08, 37.61s/it]\n",
      "       2/10         0G      1.111     0.9931      1.412        279        640:  59%|█████▉    | 19/32 [11:49<08:08, 37.61s/it]\n",
      "       2/10         0G      1.111     0.9931      1.412        279        640:  62%|██████▎   | 20/32 [11:49<07:09, 35.80s/it]\n",
      "       2/10         0G      1.115     0.9975      1.417        295        640:  62%|██████▎   | 20/32 [12:21<07:09, 35.80s/it]\n",
      "       2/10         0G      1.115     0.9975      1.417        295        640:  66%|██████▌   | 21/32 [12:21<06:23, 34.89s/it]\n",
      "       2/10         0G      1.114      1.002      1.418        274        640:  66%|██████▌   | 21/32 [13:02<06:23, 34.89s/it]\n",
      "       2/10         0G      1.114      1.002      1.418        274        640:  69%|██████▉   | 22/32 [13:02<06:06, 36.70s/it]\n",
      "       2/10         0G       1.12      1.007      1.421        301        640:  69%|██████▉   | 22/32 [13:35<06:06, 36.70s/it]\n",
      "       2/10         0G       1.12      1.007      1.421        301        640:  72%|███████▏  | 23/32 [13:35<05:19, 35.45s/it]\n",
      "       2/10         0G      1.122      1.009      1.422        275        640:  72%|███████▏  | 23/32 [14:08<05:19, 35.45s/it]\n",
      "       2/10         0G      1.122      1.009      1.422        275        640:  75%|███████▌  | 24/32 [14:08<04:37, 34.70s/it]\n",
      "       2/10         0G      1.122      1.011      1.423        272        640:  75%|███████▌  | 24/32 [14:45<04:37, 34.70s/it]\n",
      "       2/10         0G      1.122      1.011      1.423        272        640:  78%|███████▊  | 25/32 [14:45<04:08, 35.51s/it]\n",
      "       2/10         0G      1.121      1.013      1.422        258        640:  78%|███████▊  | 25/32 [15:29<04:08, 35.51s/it]\n",
      "       2/10         0G      1.121      1.013      1.422        258        640:  81%|████████▏ | 26/32 [15:29<03:47, 37.86s/it]\n",
      "       2/10         0G       1.12      1.016      1.424        258        640:  81%|████████▏ | 26/32 [16:13<03:47, 37.86s/it]\n",
      "       2/10         0G       1.12      1.016      1.424        258        640:  84%|████████▍ | 27/32 [16:13<03:19, 39.87s/it]\n",
      "       2/10         0G       1.12      1.018      1.425        233        640:  84%|████████▍ | 27/32 [16:57<03:19, 39.87s/it]\n",
      "       2/10         0G       1.12      1.018      1.425        233        640:  88%|████████▊ | 28/32 [16:57<02:44, 41.14s/it]\n",
      "       2/10         0G      1.124      1.021      1.427        258        640:  88%|████████▊ | 28/32 [17:36<02:44, 41.14s/it]\n",
      "       2/10         0G      1.124      1.021      1.427        258        640:  91%|█████████ | 29/32 [17:36<02:01, 40.39s/it]\n",
      "       2/10         0G      1.129      1.025      1.429        352        640:  91%|█████████ | 29/32 [18:08<02:01, 40.39s/it]\n",
      "       2/10         0G      1.129      1.025      1.429        352        640:  94%|█████████▍| 30/32 [18:08<01:15, 37.85s/it]\n",
      "       2/10         0G      1.128      1.025      1.429        289        640:  94%|█████████▍| 30/32 [18:39<01:15, 37.85s/it]\n",
      "       2/10         0G      1.128      1.025      1.429        289        640:  97%|█████████▋| 31/32 [18:39<00:35, 35.88s/it]\n",
      "       2/10         0G      1.128      1.026      1.428        144        640:  97%|█████████▋| 31/32 [18:56<00:35, 35.88s/it]\n",
      "       2/10         0G      1.128      1.026      1.428        144        640: 100%|██████████| 32/32 [18:56<00:00, 30.17s/it]\n",
      "       2/10         0G      1.128      1.026      1.428        144        640: 100%|██████████| 32/32 [18:56<00:00, 35.52s/it]\n",
      "\n",
      "                 Class     Images  Instances      Box(P          R      mAP50  mAP50-95):   0%|          | 0/3 [00:00<?, ?it/s]\n",
      "                 Class     Images  Instances      Box(P          R      mAP50  mAP50-95):  33%|███▎      | 1/3 [00:16<00:32, 16.15s/it]\n",
      "                 Class     Images  Instances      Box(P          R      mAP50  mAP50-95):  67%|██████▋   | 2/3 [00:34<00:17, 17.59s/it]\n",
      "                 Class     Images  Instances      Box(P          R      mAP50  mAP50-95): 100%|██████████| 3/3 [00:53<00:00, 17.93s/it]\n",
      "                 Class     Images  Instances      Box(P          R      mAP50  mAP50-95): 100%|██████████| 3/3 [00:53<00:00, 17.70s/it]\n",
      "\n",
      "  0%|          | 0/32 [00:00<?, ?it/s]\n",
      "       3/10         0G      1.207      1.204      1.493        314        640:   0%|          | 0/32 [00:36<?, ?it/s]\n",
      "       3/10         0G      1.207      1.204      1.493        314        640:   3%|▎         | 1/32 [00:36<18:41, 36.17s/it]\n",
      "       3/10         0G      1.174      1.097      1.443        296        640:   3%|▎         | 1/32 [01:06<18:41, 36.17s/it]\n",
      "       3/10         0G      1.174      1.097      1.443        296        640:   6%|▋         | 2/32 [01:06<16:27, 32.91s/it]\n",
      "       3/10         0G      1.167      1.104      1.452        285        640:   6%|▋         | 2/32 [01:38<16:27, 32.91s/it]\n",
      "       3/10         0G      1.167      1.104      1.452        285        640:   9%|▉         | 3/32 [01:38<15:33, 32.17s/it]\n",
      "       3/10         0G      1.182      1.092      1.457        359        640:   9%|▉         | 3/32 [02:09<15:33, 32.17s/it]\n",
      "       3/10         0G      1.182      1.092      1.457        359        640:  12%|█▎        | 4/32 [02:09<14:50, 31.82s/it]\n",
      "       3/10         0G      1.189      1.085      1.453        297        640:  12%|█▎        | 4/32 [02:40<14:50, 31.82s/it]\n",
      "       3/10         0G      1.189      1.085      1.453        297        640:  16%|█▌        | 5/32 [02:40<14:13, 31.61s/it]\n",
      "       3/10         0G      1.197      1.091      1.455        320        640:  16%|█▌        | 5/32 [03:12<14:13, 31.61s/it]\n",
      "       3/10         0G      1.197      1.091      1.455        320        640:  19%|█▉        | 6/32 [03:12<13:44, 31.71s/it]\n",
      "       3/10         0G       1.19      1.087      1.456        249        640:  19%|█▉        | 6/32 [03:44<13:44, 31.71s/it]\n",
      "       3/10         0G       1.19      1.087      1.456        249        640:  22%|██▏       | 7/32 [03:44<13:11, 31.65s/it]\n",
      "       3/10         0G       1.18       1.08      1.445        274        640:  22%|██▏       | 7/32 [04:14<13:11, 31.65s/it]\n",
      "       3/10         0G       1.18       1.08      1.445        274        640:  25%|██▌       | 8/32 [04:14<12:32, 31.35s/it]\n",
      "       3/10         0G       1.17      1.086      1.438        265        640:  25%|██▌       | 8/32 [04:46<12:32, 31.35s/it]\n",
      "       3/10         0G       1.17      1.086      1.438        265        640:  28%|██▊       | 9/32 [04:46<12:00, 31.34s/it]\n",
      "       3/10         0G      1.163      1.085      1.441        241        640:  28%|██▊       | 9/32 [05:17<12:00, 31.34s/it]\n",
      "       3/10         0G      1.163      1.085      1.441        241        640:  31%|███▏      | 10/32 [05:17<11:29, 31.33s/it]\n",
      "       3/10         0G       1.17      1.094      1.443        328        640:  31%|███▏      | 10/32 [05:48<11:29, 31.33s/it]\n",
      "       3/10         0G       1.17      1.094      1.443        328        640:  34%|███▍      | 11/32 [05:48<10:59, 31.39s/it]\n",
      "       3/10         0G      1.164      1.092      1.438        249        640:  34%|███▍      | 11/32 [06:19<10:59, 31.39s/it]\n",
      "       3/10         0G      1.164      1.092      1.438        249        640:  38%|███▊      | 12/32 [06:19<10:24, 31.24s/it]\n",
      "       3/10         0G      1.173      1.099      1.444        303        640:  38%|███▊      | 12/32 [06:50<10:24, 31.24s/it]\n",
      "       3/10         0G      1.173      1.099      1.444        303        640:  41%|████      | 13/32 [06:50<09:51, 31.12s/it]\n",
      "       3/10         0G      1.171      1.098      1.446        259        640:  41%|████      | 13/32 [07:32<09:51, 31.12s/it]\n",
      "       3/10         0G      1.171      1.098      1.446        259        640:  44%|████▍     | 14/32 [07:32<10:18, 34.34s/it]\n",
      "       3/10         0G      1.175      1.103      1.449        293        640:  44%|████▍     | 14/32 [08:12<10:18, 34.34s/it]\n",
      "       3/10         0G      1.175      1.103      1.449        293        640:  47%|████▋     | 15/32 [08:12<10:11, 35.94s/it]\n",
      "       3/10         0G      1.175      1.105       1.45        285        640:  47%|████▋     | 15/32 [08:56<10:11, 35.94s/it]\n",
      "       3/10         0G      1.175      1.105       1.45        285        640:  50%|█████     | 16/32 [08:56<10:16, 38.56s/it]\n",
      "       3/10         0G      1.177      1.112      1.451        291        640:  50%|█████     | 16/32 [09:28<10:16, 38.56s/it]\n",
      "       3/10         0G      1.177      1.112      1.451        291        640:  53%|█████▎    | 17/32 [09:28<09:07, 36.53s/it]\n",
      "       3/10         0G      1.175      1.106      1.454        264        640:  53%|█████▎    | 17/32 [09:59<09:07, 36.53s/it]\n",
      "       3/10         0G      1.175      1.106      1.454        264        640:  56%|█████▋    | 18/32 [09:59<08:07, 34.84s/it]\n",
      "       3/10         0G      1.172      1.105      1.455        238        640:  56%|█████▋    | 18/32 [10:30<08:07, 34.84s/it]\n",
      "       3/10         0G      1.172      1.105      1.455        238        640:  59%|█████▉    | 19/32 [10:30<07:18, 33.74s/it]\n",
      "       3/10         0G      1.175      1.108      1.458        269        640:  59%|█████▉    | 19/32 [11:01<07:18, 33.74s/it]\n",
      "       3/10         0G      1.175      1.108      1.458        269        640:  62%|██████▎   | 20/32 [11:01<06:35, 32.94s/it]\n",
      "       3/10         0G      1.177      1.108      1.462        252        640:  62%|██████▎   | 20/32 [11:32<06:35, 32.94s/it]\n",
      "       3/10         0G      1.177      1.108      1.462        252        640:  66%|██████▌   | 21/32 [11:32<05:54, 32.25s/it]\n",
      "       3/10         0G      1.181      1.112      1.465        289        640:  66%|██████▌   | 21/32 [12:10<05:54, 32.25s/it]\n",
      "       3/10         0G      1.181      1.112      1.465        289        640:  69%|██████▉   | 22/32 [12:10<05:39, 33.91s/it]\n",
      "       3/10         0G      1.183      1.112      1.467        278        640:  69%|██████▉   | 22/32 [12:53<05:39, 33.91s/it]\n",
      "       3/10         0G      1.183      1.112      1.467        278        640:  72%|███████▏  | 23/32 [12:53<05:30, 36.73s/it]\n",
      "       3/10         0G      1.186      1.113       1.47        263        640:  72%|███████▏  | 23/32 [13:35<05:30, 36.73s/it]\n",
      "       3/10         0G      1.186      1.113       1.47        263        640:  75%|███████▌  | 24/32 [13:35<05:07, 38.47s/it]\n",
      "       3/10         0G      1.188      1.115      1.474        273        640:  75%|███████▌  | 24/32 [14:20<05:07, 38.47s/it]\n",
      "       3/10         0G      1.188      1.115      1.474        273        640:  78%|███████▊  | 25/32 [14:20<04:42, 40.35s/it]\n",
      "       3/10         0G      1.187      1.117      1.475        265        640:  78%|███████▊  | 25/32 [15:05<04:42, 40.35s/it]\n",
      "       3/10         0G      1.187      1.117      1.475        265        640:  81%|████████▏ | 26/32 [15:05<04:09, 41.65s/it]\n",
      "       3/10         0G      1.185      1.116      1.474        224        640:  81%|████████▏ | 26/32 [15:46<04:09, 41.65s/it]\n",
      "       3/10         0G      1.185      1.116      1.474        224        640:  84%|████████▍ | 27/32 [15:46<03:26, 41.34s/it]\n",
      "       3/10         0G      1.182      1.115      1.473        265        640:  84%|████████▍ | 27/32 [16:17<03:26, 41.34s/it]\n",
      "       3/10         0G      1.182      1.115      1.473        265        640:  88%|████████▊ | 28/32 [16:17<02:32, 38.25s/it]\n",
      "       3/10         0G      1.183      1.117      1.475        289        640:  88%|████████▊ | 28/32 [16:54<02:32, 38.25s/it]\n",
      "       3/10         0G      1.183      1.117      1.475        289        640:  91%|█████████ | 29/32 [16:54<01:53, 37.99s/it]\n",
      "       3/10         0G      1.181      1.117      1.476        231        640:  91%|█████████ | 29/32 [17:25<01:53, 37.99s/it]\n",
      "       3/10         0G      1.181      1.117      1.476        231        640:  94%|█████████▍| 30/32 [17:25<01:11, 35.79s/it]\n",
      "       3/10         0G      1.183      1.118      1.478        272        640:  94%|█████████▍| 30/32 [17:55<01:11, 35.79s/it]\n",
      "       3/10         0G      1.183      1.118      1.478        272        640:  97%|█████████▋| 31/32 [17:55<00:34, 34.29s/it]\n",
      "       3/10         0G      1.187      1.122      1.481        176        640:  97%|█████████▋| 31/32 [18:19<00:34, 34.29s/it]\n",
      "       3/10         0G      1.187      1.122      1.481        176        640: 100%|██████████| 32/32 [18:19<00:00, 31.20s/it]\n",
      "       3/10         0G      1.187      1.122      1.481        176        640: 100%|██████████| 32/32 [18:19<00:00, 34.37s/it]\n",
      "\n",
      "                 Class     Images  Instances      Box(P          R      mAP50  mAP50-95):   0%|          | 0/3 [00:00<?, ?it/s]\n",
      "                 Class     Images  Instances      Box(P          R      mAP50  mAP50-95):  33%|███▎      | 1/3 [00:19<00:39, 19.64s/it]\n",
      "                 Class     Images  Instances      Box(P          R      mAP50  mAP50-95):  67%|██████▋   | 2/3 [00:38<00:19, 19.04s/it]\n",
      "                 Class     Images  Instances      Box(P          R      mAP50  mAP50-95): 100%|██████████| 3/3 [00:54<00:00, 17.54s/it]\n",
      "                 Class     Images  Instances      Box(P          R      mAP50  mAP50-95): 100%|██████████| 3/3 [00:54<00:00, 18.00s/it]\n",
      "\n",
      "  0%|          | 0/32 [00:00<?, ?it/s]\n",
      "       4/10         0G      1.174      1.032      1.554        256        640:   0%|          | 0/32 [00:31<?, ?it/s]\n",
      "       4/10         0G      1.174      1.032      1.554        256        640:   3%|▎         | 1/32 [00:31<16:10, 31.31s/it]\n",
      "       4/10         0G      1.126      1.055      1.499        263        640:   3%|▎         | 1/32 [01:02<16:10, 31.31s/it]\n",
      "       4/10         0G      1.126      1.055      1.499        263        640:   6%|▋         | 2/32 [01:02<15:45, 31.52s/it]\n",
      "       4/10         0G      1.153      1.082       1.49        308        640:   6%|▋         | 2/32 [01:37<15:45, 31.52s/it]\n",
      "       4/10         0G      1.153      1.082       1.49        308        640:   9%|▉         | 3/32 [01:37<15:55, 32.93s/it]\n",
      "       4/10         0G      1.187      1.101      1.498        299        640:   9%|▉         | 3/32 [02:20<15:55, 32.93s/it]\n",
      "       4/10         0G      1.187      1.101      1.498        299        640:  12%|█▎        | 4/32 [02:20<17:06, 36.68s/it]\n",
      "       4/10         0G      1.191       1.12        1.5        270        640:  12%|█▎        | 4/32 [03:08<17:06, 36.68s/it]\n",
      "       4/10         0G      1.191       1.12        1.5        270        640:  16%|█▌        | 5/32 [03:08<18:20, 40.76s/it]\n",
      "       4/10         0G      1.216      1.135      1.508        312        640:  16%|█▌        | 5/32 [03:54<18:20, 40.76s/it]\n",
      "       4/10         0G      1.216      1.135      1.508        312        640:  19%|█▉        | 6/32 [03:54<18:32, 42.80s/it]\n",
      "       4/10         0G      1.221      1.138      1.509        307        640:  19%|█▉        | 6/32 [04:28<18:32, 42.80s/it]\n",
      "       4/10         0G      1.221      1.138      1.509        307        640:  22%|██▏       | 7/32 [04:28<16:35, 39.80s/it]\n",
      "       4/10         0G      1.231      1.153      1.514        280        640:  22%|██▏       | 7/32 [04:59<16:35, 39.80s/it]\n",
      "       4/10         0G      1.231      1.153      1.514        280        640:  25%|██▌       | 8/32 [04:59<14:47, 36.99s/it]\n",
      "       4/10         0G      1.214      1.145        1.5        251        640:  25%|██▌       | 8/32 [05:33<14:47, 36.99s/it]\n",
      "       4/10         0G      1.214      1.145        1.5        251        640:  28%|██▊       | 9/32 [05:33<13:51, 36.16s/it]\n",
      "       4/10         0G      1.218      1.147      1.506        273        640:  28%|██▊       | 9/32 [06:18<13:51, 36.16s/it]\n",
      "       4/10         0G      1.218      1.147      1.506        273        640:  31%|███▏      | 10/32 [06:18<14:11, 38.70s/it]\n",
      "       4/10         0G      1.217      1.148      1.514        224        640:  31%|███▏      | 10/32 [06:55<14:11, 38.70s/it]\n",
      "       4/10         0G      1.217      1.148      1.514        224        640:  34%|███▍      | 11/32 [06:55<13:25, 38.34s/it]\n",
      "       4/10         0G      1.213      1.148      1.512        267        640:  34%|███▍      | 11/32 [07:40<13:25, 38.34s/it]\n",
      "       4/10         0G      1.213      1.148      1.512        267        640:  38%|███▊      | 12/32 [07:40<13:26, 40.33s/it]\n",
      "       4/10         0G      1.215       1.15      1.512        275        640:  38%|███▊      | 12/32 [08:25<13:26, 40.33s/it]\n",
      "       4/10         0G      1.215       1.15      1.512        275        640:  41%|████      | 13/32 [08:25<13:11, 41.64s/it]\n",
      "       4/10         0G      1.213      1.149      1.511        265        640:  41%|████      | 13/32 [08:56<13:11, 41.64s/it]\n",
      "       4/10         0G      1.213      1.149      1.511        265        640:  44%|████▍     | 14/32 [08:56<11:31, 38.43s/it]\n",
      "       4/10         0G       1.22       1.16      1.516        276        640:  44%|████▍     | 14/32 [09:27<11:31, 38.43s/it]\n",
      "       4/10         0G       1.22       1.16      1.516        276        640:  47%|████▋     | 15/32 [09:27<10:15, 36.22s/it]\n",
      "       4/10         0G      1.224      1.167      1.523        298        640:  47%|████▋     | 15/32 [09:57<10:15, 36.22s/it]\n",
      "       4/10         0G      1.224      1.167      1.523        298        640:  50%|█████     | 16/32 [09:57<09:12, 34.55s/it]\n",
      "       4/10         0G      1.227      1.173      1.527        294        640:  50%|█████     | 16/32 [10:28<09:12, 34.55s/it]\n",
      "       4/10         0G      1.227      1.173      1.527        294        640:  53%|█████▎    | 17/32 [10:28<08:22, 33.48s/it]\n",
      "       4/10         0G      1.231      1.179      1.531        283        640:  53%|█████▎    | 17/32 [10:59<08:22, 33.48s/it]\n",
      "       4/10         0G      1.231      1.179      1.531        283        640:  56%|█████▋    | 18/32 [10:59<07:35, 32.51s/it]\n",
      "       4/10         0G      1.232      1.174      1.531        302        640:  56%|█████▋    | 18/32 [11:30<07:35, 32.51s/it]\n",
      "       4/10         0G      1.232      1.174      1.531        302        640:  59%|█████▉    | 19/32 [11:30<06:56, 32.05s/it]\n",
      "       4/10         0G       1.23      1.175      1.531        247        640:  59%|█████▉    | 19/32 [12:00<06:56, 32.05s/it]\n",
      "       4/10         0G       1.23      1.175      1.531        247        640:  62%|██████▎   | 20/32 [12:00<06:17, 31.48s/it]\n",
      "       4/10         0G      1.235      1.185      1.536        284        640:  62%|██████▎   | 20/32 [12:31<06:17, 31.48s/it]\n",
      "       4/10         0G      1.235      1.185      1.536        284        640:  66%|██████▌   | 21/32 [12:31<05:44, 31.34s/it]\n",
      "       4/10         0G      1.235      1.189      1.536        258        640:  66%|██████▌   | 21/32 [13:02<05:44, 31.34s/it]\n",
      "       4/10         0G      1.235      1.189      1.536        258        640:  69%|██████▉   | 22/32 [13:02<05:12, 31.23s/it]\n",
      "       4/10         0G      1.241       1.19      1.536        357        640:  69%|██████▉   | 22/32 [13:34<05:12, 31.23s/it]\n",
      "       4/10         0G      1.241       1.19      1.536        357        640:  72%|███████▏  | 23/32 [13:34<04:42, 31.42s/it]\n",
      "       4/10         0G      1.238      1.191      1.534        263        640:  72%|███████▏  | 23/32 [14:05<04:42, 31.42s/it]\n",
      "       4/10         0G      1.238      1.191      1.534        263        640:  75%|███████▌  | 24/32 [14:05<04:10, 31.27s/it]\n",
      "       4/10         0G      1.236      1.193      1.534        257        640:  75%|███████▌  | 24/32 [14:35<04:10, 31.27s/it]\n",
      "       4/10         0G      1.236      1.193      1.534        257        640:  78%|███████▊  | 25/32 [14:35<03:38, 31.17s/it]\n",
      "       4/10         0G      1.238      1.195      1.533        316        640:  78%|███████▊  | 25/32 [15:06<03:38, 31.17s/it]\n",
      "       4/10         0G      1.238      1.195      1.533        316        640:  81%|████████▏ | 26/32 [15:06<03:05, 30.99s/it]\n",
      "       4/10         0G      1.235      1.193      1.531        263        640:  81%|████████▏ | 26/32 [15:37<03:05, 30.99s/it]\n",
      "       4/10         0G      1.235      1.193      1.531        263        640:  84%|████████▍ | 27/32 [15:37<02:34, 30.97s/it]\n",
      "       4/10         0G      1.231      1.193      1.528        234        640:  84%|████████▍ | 27/32 [16:08<02:34, 30.97s/it]\n",
      "       4/10         0G      1.231      1.193      1.528        234        640:  88%|████████▊ | 28/32 [16:08<02:03, 30.91s/it]\n",
      "       4/10         0G      1.232      1.193      1.527        279        640:  88%|████████▊ | 28/32 [16:38<02:03, 30.91s/it]\n",
      "       4/10         0G      1.232      1.193      1.527        279        640:  91%|█████████ | 29/32 [16:38<01:32, 30.73s/it]\n",
      "       4/10         0G       1.23      1.196      1.527        249        640:  91%|█████████ | 29/32 [17:09<01:32, 30.73s/it]\n",
      "       4/10         0G       1.23      1.196      1.527        249        640:  94%|█████████▍| 30/32 [17:09<01:01, 30.71s/it]\n",
      "       4/10         0G      1.228      1.194      1.523        293        640:  94%|█████████▍| 30/32 [17:40<01:01, 30.71s/it]\n",
      "       4/10         0G      1.228      1.194      1.523        293        640:  97%|█████████▋| 31/32 [17:40<00:30, 30.87s/it]\n",
      "       4/10         0G      1.228      1.192      1.519        181        640:  97%|█████████▋| 31/32 [17:57<00:30, 30.87s/it]\n",
      "       4/10         0G      1.228      1.192      1.519        181        640: 100%|██████████| 32/32 [17:57<00:00, 26.69s/it]\n",
      "       4/10         0G      1.228      1.192      1.519        181        640: 100%|██████████| 32/32 [17:57<00:00, 33.67s/it]\n",
      "\n",
      "                 Class     Images  Instances      Box(P          R      mAP50  mAP50-95):   0%|          | 0/3 [00:00<?, ?it/s]\n",
      "                 Class     Images  Instances      Box(P          R      mAP50  mAP50-95):  33%|███▎      | 1/3 [00:15<00:31, 15.82s/it]\n",
      "                 Class     Images  Instances      Box(P          R      mAP50  mAP50-95):  67%|██████▋   | 2/3 [00:34<00:17, 17.30s/it]\n",
      "                 Class     Images  Instances      Box(P          R      mAP50  mAP50-95): 100%|██████████| 3/3 [00:50<00:00, 16.71s/it]\n",
      "                 Class     Images  Instances      Box(P          R      mAP50  mAP50-95): 100%|██████████| 3/3 [00:50<00:00, 16.72s/it]\n",
      "\n",
      "  0%|          | 0/32 [00:00<?, ?it/s]\n",
      "       5/10         0G      1.301      1.239      1.567        276        640:   0%|          | 0/32 [00:30<?, ?it/s]\n",
      "       5/10         0G      1.301      1.239      1.567        276        640:   3%|▎         | 1/32 [00:30<15:51, 30.68s/it]\n",
      "       5/10         0G      1.226      1.204      1.526        247        640:   3%|▎         | 1/32 [01:01<15:51, 30.68s/it]\n",
      "       5/10         0G      1.226      1.204      1.526        247        640:   6%|▋         | 2/32 [01:01<15:28, 30.95s/it]\n",
      "       5/10         0G       1.25      1.216      1.535        289        640:   6%|▋         | 2/32 [01:32<15:28, 30.95s/it]\n",
      "       5/10         0G       1.25      1.216      1.535        289        640:   9%|▉         | 3/32 [01:32<14:55, 30.87s/it]\n",
      "       5/10         0G      1.256      1.204      1.524        310        640:   9%|▉         | 3/32 [02:03<14:55, 30.87s/it]\n",
      "       5/10         0G      1.256      1.204      1.524        310        640:  12%|█▎        | 4/32 [02:03<14:19, 30.69s/it]\n",
      "       5/10         0G      1.237      1.188      1.509        281        640:  12%|█▎        | 4/32 [02:33<14:19, 30.69s/it]\n",
      "       5/10         0G      1.237      1.188      1.509        281        640:  16%|█▌        | 5/32 [02:33<13:49, 30.71s/it]\n",
      "       5/10         0G      1.221      1.169      1.505        250        640:  16%|█▌        | 5/32 [03:04<13:49, 30.71s/it]\n",
      "       5/10         0G      1.221      1.169      1.505        250        640:  19%|█▉        | 6/32 [03:04<13:18, 30.70s/it]\n",
      "       5/10         0G      1.223      1.176      1.509        267        640:  19%|█▉        | 6/32 [03:35<13:18, 30.70s/it]\n",
      "       5/10         0G      1.223      1.176      1.509        267        640:  22%|██▏       | 7/32 [03:35<12:49, 30.77s/it]\n",
      "       5/10         0G      1.229      1.179      1.512        320        640:  22%|██▏       | 7/32 [04:06<12:49, 30.77s/it]\n",
      "       5/10         0G      1.229      1.179      1.512        320        640:  25%|██▌       | 8/32 [04:06<12:21, 30.89s/it]\n",
      "       5/10         0G      1.219      1.169      1.509        246        640:  25%|██▌       | 8/32 [04:37<12:21, 30.89s/it]\n",
      "       5/10         0G      1.219      1.169      1.509        246        640:  28%|██▊       | 9/32 [04:37<11:48, 30.82s/it]\n",
      "       5/10         0G      1.217      1.165      1.504        283        640:  28%|██▊       | 9/32 [05:07<11:48, 30.82s/it]\n",
      "       5/10         0G      1.217      1.165      1.504        283        640:  31%|███▏      | 10/32 [05:07<11:14, 30.67s/it]\n",
      "       5/10         0G      1.215       1.16      1.505        261        640:  31%|███▏      | 10/32 [05:37<11:14, 30.67s/it]\n",
      "       5/10         0G      1.215       1.16      1.505        261        640:  34%|███▍      | 11/32 [05:37<10:40, 30.50s/it]\n",
      "       5/10         0G      1.214      1.157      1.504        282        640:  34%|███▍      | 11/32 [06:08<10:40, 30.50s/it]\n",
      "       5/10         0G      1.214      1.157      1.504        282        640:  38%|███▊      | 12/32 [06:08<10:13, 30.70s/it]\n",
      "       5/10         0G      1.208      1.158      1.499        268        640:  38%|███▊      | 12/32 [06:39<10:13, 30.70s/it]\n",
      "       5/10         0G      1.208      1.158      1.499        268        640:  41%|████      | 13/32 [06:39<09:43, 30.69s/it]\n",
      "       5/10         0G      1.216      1.164      1.502        293        640:  41%|████      | 13/32 [07:09<09:43, 30.69s/it]\n",
      "       5/10         0G      1.216      1.164      1.502        293        640:  44%|████▍     | 14/32 [07:09<09:10, 30.59s/it]\n",
      "       5/10         0G      1.216      1.165      1.501        292        640:  44%|████▍     | 14/32 [07:40<09:10, 30.59s/it]\n",
      "       5/10         0G      1.216      1.165      1.501        292        640:  47%|████▋     | 15/32 [07:40<08:40, 30.63s/it]\n",
      "       5/10         0G      1.212      1.168      1.495        267        640:  47%|████▋     | 15/32 [08:11<08:40, 30.63s/it]\n",
      "       5/10         0G      1.212      1.168      1.495        267        640:  50%|█████     | 16/32 [08:11<08:10, 30.66s/it]\n",
      "       5/10         0G      1.216      1.172      1.494        327        640:  50%|█████     | 16/32 [08:42<08:10, 30.66s/it]\n",
      "       5/10         0G      1.216      1.172      1.494        327        640:  53%|█████▎    | 17/32 [08:42<07:40, 30.70s/it]\n",
      "       5/10         0G      1.216      1.173      1.494        253        640:  53%|█████▎    | 17/32 [09:13<07:40, 30.70s/it]\n",
      "       5/10         0G      1.216      1.173      1.494        253        640:  56%|█████▋    | 18/32 [09:13<07:11, 30.85s/it]\n",
      "       5/10         0G      1.212      1.175      1.495        256        640:  56%|█████▋    | 18/32 [09:44<07:11, 30.85s/it]\n",
      "       5/10         0G      1.212      1.175      1.495        256        640:  59%|█████▉    | 19/32 [09:44<06:41, 30.92s/it]\n",
      "       5/10         0G      1.215      1.175        1.5        309        640:  59%|█████▉    | 19/32 [10:28<06:41, 30.92s/it]\n",
      "       5/10         0G      1.215      1.175        1.5        309        640:  62%|██████▎   | 20/32 [10:28<07:00, 35.05s/it]\n",
      "       5/10         0G      1.215      1.171      1.502        277        640:  62%|██████▎   | 20/32 [11:13<07:00, 35.05s/it]\n",
      "       5/10         0G      1.215      1.171      1.502        277        640:  66%|██████▌   | 21/32 [11:13<06:58, 38.03s/it]\n",
      "       5/10         0G      1.218      1.175      1.505        313        640:  66%|██████▌   | 21/32 [12:00<06:58, 38.03s/it]\n",
      "       5/10         0G      1.218      1.175      1.505        313        640:  69%|██████▉   | 22/32 [12:00<06:46, 40.69s/it]\n",
      "       5/10         0G      1.212      1.174      1.502        275        640:  69%|██████▉   | 22/32 [12:38<06:46, 40.69s/it]\n",
      "       5/10         0G      1.212      1.174      1.502        275        640:  72%|███████▏  | 23/32 [12:38<05:57, 39.75s/it]\n",
      "       5/10         0G      1.208      1.168      1.499        268        640:  72%|███████▏  | 23/32 [13:09<05:57, 39.75s/it]\n",
      "       5/10         0G      1.208      1.168      1.499        268        640:  75%|███████▌  | 24/32 [13:09<04:57, 37.13s/it]\n",
      "       5/10         0G      1.208      1.166      1.499        263        640:  75%|███████▌  | 24/32 [13:40<04:57, 37.13s/it]\n",
      "       5/10         0G      1.208      1.166      1.499        263        640:  78%|███████▊  | 25/32 [13:40<04:07, 35.32s/it]\n",
      "       5/10         0G      1.207      1.167        1.5        250        640:  78%|███████▊  | 25/32 [14:11<04:07, 35.32s/it]\n",
      "       5/10         0G      1.207      1.167        1.5        250        640:  81%|████████▏ | 26/32 [14:11<03:23, 33.89s/it]\n",
      "       5/10         0G      1.209      1.168      1.501        298        640:  81%|████████▏ | 26/32 [14:44<03:23, 33.89s/it]\n",
      "       5/10         0G      1.209      1.168      1.501        298        640:  84%|████████▍ | 27/32 [14:44<02:48, 33.62s/it]\n",
      "       5/10         0G      1.209      1.167      1.499        282        640:  84%|████████▍ | 27/32 [15:17<02:48, 33.62s/it]\n",
      "       5/10         0G      1.209      1.167      1.499        282        640:  88%|████████▊ | 28/32 [15:17<02:14, 33.54s/it]\n",
      "       5/10         0G       1.21       1.17      1.501        271        640:  88%|████████▊ | 28/32 [15:48<02:14, 33.54s/it]\n",
      "       5/10         0G       1.21       1.17      1.501        271        640:  91%|█████████ | 29/32 [15:48<01:38, 32.77s/it]\n",
      "       5/10         0G      1.209      1.168        1.5        285        640:  91%|█████████ | 29/32 [16:19<01:38, 32.77s/it]\n",
      "       5/10         0G      1.209      1.168        1.5        285        640:  94%|█████████▍| 30/32 [16:19<01:04, 32.24s/it]\n",
      "       5/10         0G      1.207       1.17      1.497        272        640:  94%|█████████▍| 30/32 [16:50<01:04, 32.24s/it]\n",
      "       5/10         0G      1.207       1.17      1.497        272        640:  97%|█████████▋| 31/32 [16:50<00:31, 31.89s/it]\n",
      "       5/10         0G      1.209       1.17      1.497        155        640:  97%|█████████▋| 31/32 [17:08<00:31, 31.89s/it]\n",
      "       5/10         0G      1.209       1.17      1.497        155        640: 100%|██████████| 32/32 [17:08<00:00, 27.77s/it]\n",
      "       5/10         0G      1.209       1.17      1.497        155        640: 100%|██████████| 32/32 [17:08<00:00, 32.14s/it]\n",
      "\n",
      "                 Class     Images  Instances      Box(P          R      mAP50  mAP50-95):   0%|          | 0/3 [00:00<?, ?it/s]\n",
      "                 Class     Images  Instances      Box(P          R      mAP50  mAP50-95):  33%|███▎      | 1/3 [00:16<00:32, 16.34s/it]\n",
      "                 Class     Images  Instances      Box(P          R      mAP50  mAP50-95):  67%|██████▋   | 2/3 [00:35<00:17, 17.78s/it]\n",
      "                 Class     Images  Instances      Box(P          R      mAP50  mAP50-95): 100%|██████████| 3/3 [00:52<00:00, 17.70s/it]\n",
      "                 Class     Images  Instances      Box(P          R      mAP50  mAP50-95): 100%|██████████| 3/3 [00:52<00:00, 17.58s/it]\n",
      "\n",
      "  0%|          | 0/32 [00:00<?, ?it/s]\n",
      "       6/10         0G      1.129      1.072      1.416        284        640:   0%|          | 0/32 [00:32<?, ?it/s]\n",
      "       6/10         0G      1.129      1.072      1.416        284        640:   3%|▎         | 1/32 [00:32<16:55, 32.76s/it]\n",
      "       6/10         0G       1.23      1.126      1.463        339        640:   3%|▎         | 1/32 [01:04<16:55, 32.76s/it]\n",
      "       6/10         0G       1.23      1.126      1.463        339        640:   6%|▋         | 2/32 [01:04<16:12, 32.41s/it]\n",
      "       6/10         0G      1.201      1.125      1.478        258        640:   6%|▋         | 2/32 [01:36<16:12, 32.41s/it]\n",
      "       6/10         0G      1.201      1.125      1.478        258        640:   9%|▉         | 3/32 [01:36<15:30, 32.08s/it]\n",
      "       6/10         0G        1.2      1.121      1.475        287        640:   9%|▉         | 3/32 [02:08<15:30, 32.08s/it]\n",
      "       6/10         0G        1.2      1.121      1.475        287        640:  12%|█▎        | 4/32 [02:08<14:59, 32.11s/it]\n",
      "       6/10         0G      1.194      1.094      1.475        271        640:  12%|█▎        | 4/32 [02:40<14:59, 32.11s/it]\n",
      "       6/10         0G      1.194      1.094      1.475        271        640:  16%|█▌        | 5/32 [02:40<14:24, 32.01s/it]\n",
      "       6/10         0G       1.18      1.096      1.476        255        640:  16%|█▌        | 5/32 [03:12<14:24, 32.01s/it]\n",
      "       6/10         0G       1.18      1.096      1.476        255        640:  19%|█▉        | 6/32 [03:12<13:52, 32.02s/it]\n",
      "       6/10         0G      1.165       1.08      1.464        296        640:  19%|█▉        | 6/32 [03:49<13:52, 32.02s/it]\n",
      "       6/10         0G      1.165       1.08      1.464        296        640:  22%|██▏       | 7/32 [03:49<13:57, 33.51s/it]\n",
      "       6/10         0G      1.149      1.068      1.463        257        640:  22%|██▏       | 7/32 [04:33<13:57, 33.51s/it]\n",
      "       6/10         0G      1.149      1.068      1.463        257        640:  25%|██▌       | 8/32 [04:33<14:46, 36.95s/it]\n",
      "       6/10         0G      1.151      1.068      1.463        293        640:  25%|██▌       | 8/32 [05:05<14:46, 36.95s/it]\n",
      "       6/10         0G      1.151      1.068      1.463        293        640:  28%|██▊       | 9/32 [05:05<13:34, 35.41s/it]\n",
      "       6/10         0G      1.155      1.075      1.461        287        640:  28%|██▊       | 9/32 [05:37<13:34, 35.41s/it]\n",
      "       6/10         0G      1.155      1.075      1.461        287        640:  31%|███▏      | 10/32 [05:37<12:32, 34.21s/it]\n",
      "       6/10         0G      1.155      1.074       1.46        257        640:  31%|███▏      | 10/32 [06:16<12:32, 34.21s/it]\n",
      "       6/10         0G      1.155      1.074       1.46        257        640:  34%|███▍      | 11/32 [06:16<12:31, 35.77s/it]\n",
      "       6/10         0G      1.155      1.075      1.462        275        640:  34%|███▍      | 11/32 [06:51<12:31, 35.77s/it]\n",
      "       6/10         0G      1.155      1.075      1.462        275        640:  38%|███▊      | 12/32 [06:51<11:49, 35.48s/it]\n",
      "       6/10         0G      1.154      1.085       1.46        292        640:  38%|███▊      | 12/32 [07:27<11:49, 35.48s/it]\n",
      "       6/10         0G      1.154      1.085       1.46        292        640:  41%|████      | 13/32 [07:27<11:17, 35.64s/it]\n",
      "       6/10         0G      1.155      1.081      1.459        272        640:  41%|████      | 13/32 [08:13<11:17, 35.64s/it]\n",
      "       6/10         0G      1.155      1.081      1.459        272        640:  44%|████▍     | 14/32 [08:13<11:37, 38.76s/it]\n",
      "       6/10         0G      1.152       1.08      1.458        258        640:  44%|████▍     | 14/32 [08:58<11:37, 38.76s/it]\n",
      "       6/10         0G      1.152       1.08      1.458        258        640:  47%|████▋     | 15/32 [08:58<11:32, 40.75s/it]\n",
      "       6/10         0G      1.154      1.085      1.458        274        640:  47%|████▋     | 15/32 [09:43<11:32, 40.75s/it]\n",
      "       6/10         0G      1.154      1.085      1.458        274        640:  50%|█████     | 16/32 [09:43<11:13, 42.10s/it]\n",
      "       6/10         0G      1.154      1.092      1.457        261        640:  50%|█████     | 16/32 [10:29<11:13, 42.10s/it]\n",
      "       6/10         0G      1.154      1.092      1.457        261        640:  53%|█████▎    | 17/32 [10:29<10:46, 43.07s/it]\n",
      "       6/10         0G      1.154      1.097       1.46        280        640:  53%|█████▎    | 17/32 [11:13<10:46, 43.07s/it]\n",
      "       6/10         0G      1.154      1.097       1.46        280        640:  56%|█████▋    | 18/32 [11:13<10:09, 43.55s/it]\n",
      "       6/10         0G      1.162      1.102      1.465        274        640:  56%|█████▋    | 18/32 [11:49<10:09, 43.55s/it]\n",
      "       6/10         0G      1.162      1.102      1.465        274        640:  59%|█████▉    | 19/32 [11:49<08:55, 41.16s/it]\n",
      "       6/10         0G      1.164      1.105      1.467        285        640:  59%|█████▉    | 19/32 [12:21<08:55, 41.16s/it]\n",
      "       6/10         0G      1.164      1.105      1.467        285        640:  62%|██████▎   | 20/32 [12:21<07:39, 38.33s/it]\n",
      "       6/10         0G       1.16      1.102      1.466        228        640:  62%|██████▎   | 20/32 [13:06<07:39, 38.33s/it]\n",
      "       6/10         0G       1.16      1.102      1.466        228        640:  66%|██████▌   | 21/32 [13:06<07:24, 40.37s/it]\n",
      "       6/10         0G      1.166      1.104      1.468        338        640:  66%|██████▌   | 21/32 [13:40<07:24, 40.37s/it]\n",
      "       6/10         0G      1.166      1.104      1.468        338        640:  69%|██████▉   | 22/32 [13:40<06:24, 38.50s/it]\n",
      "       6/10         0G      1.168      1.103      1.468        270        640:  69%|██████▉   | 22/32 [14:12<06:24, 38.50s/it]\n",
      "       6/10         0G      1.168      1.103      1.468        270        640:  72%|███████▏  | 23/32 [14:12<05:28, 36.48s/it]\n",
      "       6/10         0G      1.166      1.104       1.47        242        640:  72%|███████▏  | 23/32 [14:46<05:28, 36.48s/it]\n",
      "       6/10         0G      1.166      1.104       1.47        242        640:  75%|███████▌  | 24/32 [14:46<04:46, 35.87s/it]\n",
      "       6/10         0G      1.171      1.106      1.473        346        640:  75%|███████▌  | 24/32 [15:24<04:46, 35.87s/it]\n",
      "       6/10         0G      1.171      1.106      1.473        346        640:  78%|███████▊  | 25/32 [15:24<04:15, 36.56s/it]\n",
      "       6/10         0G      1.171      1.104       1.47        252        640:  78%|███████▊  | 25/32 [16:10<04:15, 36.56s/it]\n",
      "       6/10         0G      1.171      1.104       1.47        252        640:  81%|████████▏ | 26/32 [16:10<03:55, 39.33s/it]\n",
      "       6/10         0G      1.169      1.101      1.467        259        640:  81%|████████▏ | 26/32 [16:53<03:55, 39.33s/it]\n",
      "       6/10         0G      1.169      1.101      1.467        259        640:  84%|████████▍ | 27/32 [16:53<03:22, 40.53s/it]\n",
      "       6/10         0G      1.171      1.102      1.467        307        640:  84%|████████▍ | 27/32 [17:26<03:22, 40.53s/it]\n",
      "       6/10         0G      1.171      1.102      1.467        307        640:  88%|████████▊ | 28/32 [17:26<02:33, 38.27s/it]\n",
      "       6/10         0G      1.171      1.103      1.466        292        640:  88%|████████▊ | 28/32 [17:58<02:33, 38.27s/it]\n",
      "       6/10         0G      1.171      1.103      1.466        292        640:  91%|█████████ | 29/32 [17:58<01:48, 36.20s/it]\n",
      "       6/10         0G      1.173      1.104      1.468        259        640:  91%|█████████ | 29/32 [18:29<01:48, 36.20s/it]\n",
      "       6/10         0G      1.173      1.104      1.468        259        640:  94%|█████████▍| 30/32 [18:29<01:09, 34.70s/it]\n",
      "       6/10         0G      1.169      1.102      1.466        242        640:  94%|█████████▍| 30/32 [19:03<01:09, 34.70s/it]\n",
      "       6/10         0G      1.169      1.102      1.466        242        640:  97%|█████████▋| 31/32 [19:03<00:34, 34.52s/it]\n",
      "       6/10         0G      1.169        1.1      1.463        167        640:  97%|█████████▋| 31/32 [19:24<00:34, 34.52s/it]\n",
      "       6/10         0G      1.169        1.1      1.463        167        640: 100%|██████████| 32/32 [19:24<00:00, 30.46s/it]\n",
      "       6/10         0G      1.169        1.1      1.463        167        640: 100%|██████████| 32/32 [19:24<00:00, 36.39s/it]\n",
      "\n",
      "                 Class     Images  Instances      Box(P          R      mAP50  mAP50-95):   0%|          | 0/3 [00:00<?, ?it/s]\n",
      "                 Class     Images  Instances      Box(P          R      mAP50  mAP50-95):  33%|███▎      | 1/3 [00:18<00:37, 18.54s/it]\n",
      "                 Class     Images  Instances      Box(P          R      mAP50  mAP50-95):  67%|██████▋   | 2/3 [00:40<00:20, 20.60s/it]\n",
      "                 Class     Images  Instances      Box(P          R      mAP50  mAP50-95): 100%|██████████| 3/3 [00:58<00:00, 19.35s/it]\n",
      "                 Class     Images  Instances      Box(P          R      mAP50  mAP50-95): 100%|██████████| 3/3 [00:58<00:00, 19.48s/it]\n",
      "\n",
      "  0%|          | 0/32 [00:00<?, ?it/s]\n",
      "       7/10         0G      1.174      1.092      1.445        303        640:   0%|          | 0/32 [00:36<?, ?it/s]\n",
      "       7/10         0G      1.174      1.092      1.445        303        640:   3%|▎         | 1/32 [00:36<18:36, 36.03s/it]\n",
      "       7/10         0G      1.226      1.159      1.491        343        640:   3%|▎         | 1/32 [01:11<18:36, 36.03s/it]\n",
      "       7/10         0G      1.226      1.159      1.491        343        640:   6%|▋         | 2/32 [01:11<17:42, 35.41s/it]\n",
      "       7/10         0G       1.18      1.107      1.464        276        640:   6%|▋         | 2/32 [01:44<17:42, 35.41s/it]\n",
      "       7/10         0G       1.18      1.107      1.464        276        640:   9%|▉         | 3/32 [01:44<16:39, 34.47s/it]\n",
      "       7/10         0G      1.162      1.088       1.45        281        640:   9%|▉         | 3/32 [02:15<16:39, 34.47s/it]\n",
      "       7/10         0G      1.162      1.088       1.45        281        640:  12%|█▎        | 4/32 [02:15<15:32, 33.31s/it]\n",
      "       7/10         0G       1.16      1.073      1.445        267        640:  12%|█▎        | 4/32 [02:49<15:32, 33.31s/it]\n",
      "       7/10         0G       1.16      1.073      1.445        267        640:  16%|█▌        | 5/32 [02:49<15:02, 33.41s/it]\n",
      "       7/10         0G       1.17      1.078      1.451        281        640:  16%|█▌        | 5/32 [03:20<15:02, 33.41s/it]\n",
      "       7/10         0G       1.17      1.078      1.451        281        640:  19%|█▉        | 6/32 [03:20<14:11, 32.73s/it]\n",
      "       7/10         0G      1.161      1.077      1.445        317        640:  19%|█▉        | 6/32 [03:52<14:11, 32.73s/it]\n",
      "       7/10         0G      1.161      1.077      1.445        317        640:  22%|██▏       | 7/32 [03:52<13:31, 32.46s/it]\n",
      "       7/10         0G      1.166      1.074      1.439        327        640:  22%|██▏       | 7/32 [04:24<13:31, 32.46s/it]\n",
      "       7/10         0G      1.166      1.074      1.439        327        640:  25%|██▌       | 8/32 [04:24<12:53, 32.22s/it]\n",
      "       7/10         0G      1.151      1.067      1.433        247        640:  25%|██▌       | 8/32 [04:58<12:53, 32.22s/it]\n",
      "       7/10         0G      1.151      1.067      1.433        247        640:  28%|██▊       | 9/32 [04:58<12:36, 32.90s/it]\n",
      "       7/10         0G      1.151      1.061      1.432        296        640:  28%|██▊       | 9/32 [05:34<12:36, 32.90s/it]\n",
      "       7/10         0G      1.151      1.061      1.432        296        640:  31%|███▏      | 10/32 [05:34<12:23, 33.80s/it]\n",
      "       7/10         0G      1.151       1.06      1.435        256        640:  31%|███▏      | 10/32 [06:10<12:23, 33.80s/it]\n",
      "       7/10         0G      1.151       1.06      1.435        256        640:  34%|███▍      | 11/32 [06:10<12:00, 34.29s/it]\n",
      "       7/10         0G      1.149      1.057      1.431        276        640:  34%|███▍      | 11/32 [06:46<12:00, 34.29s/it]\n",
      "       7/10         0G      1.149      1.057      1.431        276        640:  38%|███▊      | 12/32 [06:46<11:39, 34.96s/it]\n",
      "       7/10         0G      1.145      1.048      1.429        249        640:  38%|███▊      | 12/32 [07:22<11:39, 34.96s/it]\n",
      "       7/10         0G      1.145      1.048      1.429        249        640:  41%|████      | 13/32 [07:22<11:07, 35.11s/it]\n",
      "       7/10         0G      1.145      1.045       1.43        272        640:  41%|████      | 13/32 [07:56<11:07, 35.11s/it]\n",
      "       7/10         0G      1.145      1.045       1.43        272        640:  44%|████▍     | 14/32 [07:56<10:29, 34.97s/it]\n",
      "       7/10         0G      1.148      1.044      1.429        313        640:  44%|████▍     | 14/32 [08:30<10:29, 34.97s/it]\n",
      "       7/10         0G      1.148      1.044      1.429        313        640:  47%|████▋     | 15/32 [08:30<09:47, 34.57s/it]\n",
      "       7/10         0G      1.144      1.041      1.428        275        640:  47%|████▋     | 15/32 [09:11<09:47, 34.57s/it]\n",
      "       7/10         0G      1.144      1.041      1.428        275        640:  50%|█████     | 16/32 [09:11<09:45, 36.61s/it]\n",
      "       7/10         0G      1.144      1.046      1.426        270        640:  50%|█████     | 16/32 [09:57<09:45, 36.61s/it]\n",
      "       7/10         0G      1.144      1.046      1.426        270        640:  53%|█████▎    | 17/32 [09:57<09:52, 39.49s/it]\n",
      "       7/10         0G      1.147       1.05      1.429        279        640:  53%|█████▎    | 17/32 [10:43<09:52, 39.49s/it]\n",
      "       7/10         0G      1.147       1.05      1.429        279        640:  56%|█████▋    | 18/32 [10:43<09:40, 41.48s/it]\n",
      "       7/10         0G      1.144      1.052      1.427        294        640:  56%|█████▋    | 18/32 [11:29<09:40, 41.48s/it]\n",
      "       7/10         0G      1.144      1.052      1.427        294        640:  59%|█████▉    | 19/32 [11:29<09:13, 42.59s/it]\n",
      "       7/10         0G      1.143      1.051      1.428        253        640:  59%|█████▉    | 19/32 [12:14<09:13, 42.59s/it]\n",
      "       7/10         0G      1.143      1.051      1.428        253        640:  62%|██████▎   | 20/32 [12:14<08:41, 43.50s/it]\n",
      "       7/10         0G       1.14      1.052      1.429        244        640:  62%|██████▎   | 20/32 [12:59<08:41, 43.50s/it]\n",
      "       7/10         0G       1.14      1.052      1.429        244        640:  66%|██████▌   | 21/32 [12:59<08:01, 43.75s/it]\n",
      "       7/10         0G      1.136      1.051      1.429        287        640:  66%|██████▌   | 21/32 [13:35<08:01, 43.75s/it]\n",
      "       7/10         0G      1.136      1.051      1.429        287        640:  69%|██████▉   | 22/32 [13:35<06:54, 41.47s/it]\n",
      "       7/10         0G      1.128      1.045      1.425        233        640:  69%|██████▉   | 22/32 [14:09<06:54, 41.47s/it]\n",
      "       7/10         0G      1.128      1.045      1.425        233        640:  72%|███████▏  | 23/32 [14:09<05:53, 39.30s/it]\n",
      "       7/10         0G      1.128      1.042      1.424        286        640:  72%|███████▏  | 23/32 [14:42<05:53, 39.30s/it]\n",
      "       7/10         0G      1.128      1.042      1.424        286        640:  75%|███████▌  | 24/32 [14:42<04:58, 37.35s/it]\n",
      "       7/10         0G      1.125      1.043      1.423        260        640:  75%|███████▌  | 24/32 [15:24<04:58, 37.35s/it]\n",
      "       7/10         0G      1.125      1.043      1.423        260        640:  78%|███████▊  | 25/32 [15:24<04:31, 38.78s/it]\n",
      "       7/10         0G      1.125      1.041      1.423        301        640:  78%|███████▊  | 25/32 [16:09<04:31, 38.78s/it]\n",
      "       7/10         0G      1.125      1.041      1.423        301        640:  81%|████████▏ | 26/32 [16:09<04:04, 40.76s/it]\n",
      "       7/10         0G      1.125      1.039      1.425        252        640:  81%|████████▏ | 26/32 [16:55<04:04, 40.76s/it]\n",
      "       7/10         0G      1.125      1.039      1.425        252        640:  84%|████████▍ | 27/32 [16:55<03:31, 42.38s/it]\n",
      "       7/10         0G      1.124      1.037      1.424        266        640:  84%|████████▍ | 27/32 [17:44<03:31, 42.38s/it]\n",
      "       7/10         0G      1.124      1.037      1.424        266        640:  88%|████████▊ | 28/32 [17:44<02:56, 44.13s/it]\n",
      "       7/10         0G      1.127       1.04      1.423        305        640:  88%|████████▊ | 28/32 [18:21<02:56, 44.13s/it]\n",
      "       7/10         0G      1.127       1.04      1.423        305        640:  91%|█████████ | 29/32 [18:21<02:06, 42.11s/it]\n",
      "       7/10         0G      1.126       1.04      1.422        286        640:  91%|█████████ | 29/32 [18:52<02:06, 42.11s/it]\n",
      "       7/10         0G      1.126       1.04      1.422        286        640:  94%|█████████▍| 30/32 [18:52<01:17, 38.84s/it]\n",
      "       7/10         0G      1.126       1.04      1.425        255        640:  94%|█████████▍| 30/32 [19:24<01:17, 38.84s/it]\n",
      "       7/10         0G      1.126       1.04      1.425        255        640:  97%|█████████▋| 31/32 [19:24<00:36, 36.76s/it]\n",
      "       7/10         0G      1.127       1.04      1.424        175        640:  97%|█████████▋| 31/32 [19:43<00:36, 36.76s/it]\n",
      "       7/10         0G      1.127       1.04      1.424        175        640: 100%|██████████| 32/32 [19:43<00:00, 31.45s/it]\n",
      "       7/10         0G      1.127       1.04      1.424        175        640: 100%|██████████| 32/32 [19:43<00:00, 36.99s/it]\n",
      "\n",
      "                 Class     Images  Instances      Box(P          R      mAP50  mAP50-95):   0%|          | 0/3 [00:00<?, ?it/s]\n",
      "                 Class     Images  Instances      Box(P          R      mAP50  mAP50-95):  33%|███▎      | 1/3 [00:16<00:32, 16.27s/it]\n",
      "                 Class     Images  Instances      Box(P          R      mAP50  mAP50-95):  67%|██████▋   | 2/3 [00:34<00:17, 17.39s/it]\n",
      "                 Class     Images  Instances      Box(P          R      mAP50  mAP50-95): 100%|██████████| 3/3 [00:50<00:00, 16.81s/it]\n",
      "                 Class     Images  Instances      Box(P          R      mAP50  mAP50-95): 100%|██████████| 3/3 [00:50<00:00, 16.85s/it]\n",
      "\n",
      "  0%|          | 0/32 [00:00<?, ?it/s]\n",
      "       8/10         0G      1.123     0.9804      1.424        284        640:   0%|          | 0/32 [00:40<?, ?it/s]\n",
      "       8/10         0G      1.123     0.9804      1.424        284        640:   3%|▎         | 1/32 [00:40<21:05, 40.82s/it]\n",
      "       8/10         0G      1.142     0.9822      1.424        302        640:   3%|▎         | 1/32 [01:27<21:05, 40.82s/it]\n",
      "       8/10         0G      1.142     0.9822      1.424        302        640:   6%|▋         | 2/32 [01:27<22:03, 44.11s/it]\n",
      "       8/10         0G      1.143     0.9968      1.435        279        640:   6%|▋         | 2/32 [02:13<22:03, 44.11s/it]\n",
      "       8/10         0G      1.143     0.9968      1.435        279        640:   9%|▉         | 3/32 [02:13<21:45, 45.01s/it]\n",
      "       8/10         0G      1.121      1.002      1.422        281        640:   9%|▉         | 3/32 [02:58<21:45, 45.01s/it]\n",
      "       8/10         0G      1.121      1.002      1.422        281        640:  12%|█▎        | 4/32 [02:58<21:01, 45.05s/it]\n",
      "       8/10         0G      1.109     0.9875      1.422        277        640:  12%|█▎        | 4/32 [03:46<21:01, 45.05s/it]\n",
      "       8/10         0G      1.109     0.9875      1.422        277        640:  16%|█▌        | 5/32 [03:46<20:42, 46.02s/it]\n",
      "       8/10         0G      1.099     0.9913      1.419        242        640:  16%|█▌        | 5/32 [04:32<20:42, 46.02s/it]\n",
      "       8/10         0G      1.099     0.9913      1.419        242        640:  19%|█▉        | 6/32 [04:32<19:59, 46.14s/it]\n",
      "       8/10         0G      1.092     0.9904      1.414        306        640:  19%|█▉        | 6/32 [05:18<19:59, 46.14s/it]\n",
      "       8/10         0G      1.092     0.9904      1.414        306        640:  22%|██▏       | 7/32 [05:18<19:15, 46.21s/it]\n",
      "       8/10         0G      1.076     0.9765      1.411        243        640:  22%|██▏       | 7/32 [06:03<19:15, 46.21s/it]\n",
      "       8/10         0G      1.076     0.9765      1.411        243        640:  25%|██▌       | 8/32 [06:03<18:16, 45.68s/it]\n",
      "       8/10         0G       1.07     0.9745       1.41        225        640:  25%|██▌       | 8/32 [06:49<18:16, 45.68s/it]\n",
      "       8/10         0G       1.07     0.9745       1.41        225        640:  28%|██▊       | 9/32 [06:49<17:34, 45.83s/it]\n",
      "       8/10         0G      1.062     0.9677      1.404        237        640:  28%|██▊       | 9/32 [07:22<17:34, 45.83s/it]\n",
      "       8/10         0G      1.062     0.9677      1.404        237        640:  31%|███▏      | 10/32 [07:22<15:22, 41.93s/it]\n",
      "       8/10         0G      1.062     0.9706      1.404        253        640:  31%|███▏      | 10/32 [07:55<15:22, 41.93s/it]\n",
      "       8/10         0G      1.062     0.9706      1.404        253        640:  34%|███▍      | 11/32 [07:55<13:40, 39.07s/it]\n",
      "       8/10         0G      1.058     0.9655      1.401        252        640:  34%|███▍      | 11/32 [08:32<13:40, 39.07s/it]\n",
      "       8/10         0G      1.058     0.9655      1.401        252        640:  38%|███▊      | 12/32 [08:32<12:51, 38.56s/it]\n",
      "       8/10         0G      1.051     0.9601      1.396        246        640:  38%|███▊      | 12/32 [09:16<12:51, 38.56s/it]\n",
      "       8/10         0G      1.051     0.9601      1.396        246        640:  41%|████      | 13/32 [09:17<12:45, 40.28s/it]\n",
      "       8/10         0G      1.056     0.9616      1.398        313        640:  41%|████      | 13/32 [09:52<12:45, 40.28s/it]\n",
      "       8/10         0G      1.056     0.9616      1.398        313        640:  44%|████▍     | 14/32 [09:52<11:37, 38.77s/it]\n",
      "       8/10         0G      1.056     0.9568      1.393        266        640:  44%|████▍     | 14/32 [10:38<11:37, 38.77s/it]\n",
      "       8/10         0G      1.056     0.9568      1.393        266        640:  47%|████▋     | 15/32 [10:38<11:37, 41.01s/it]\n",
      "       8/10         0G      1.065      0.961      1.398        322        640:  47%|████▋     | 15/32 [11:22<11:37, 41.01s/it]\n",
      "       8/10         0G      1.065      0.961      1.398        322        640:  50%|█████     | 16/32 [11:22<11:12, 42.05s/it]\n",
      "       8/10         0G      1.072     0.9594      1.398        293        640:  50%|█████     | 16/32 [12:06<11:12, 42.05s/it]\n",
      "       8/10         0G      1.072     0.9594      1.398        293        640:  53%|█████▎    | 17/32 [12:06<10:38, 42.56s/it]\n",
      "       8/10         0G      1.073     0.9572      1.396        301        640:  53%|█████▎    | 17/32 [12:51<10:38, 42.56s/it]\n",
      "       8/10         0G      1.073     0.9572      1.396        301        640:  56%|█████▋    | 18/32 [12:51<10:04, 43.19s/it]\n",
      "       8/10         0G      1.077      0.959      1.401        282        640:  56%|█████▋    | 18/32 [13:35<10:04, 43.19s/it]\n",
      "       8/10         0G      1.077      0.959      1.401        282        640:  59%|█████▉    | 19/32 [13:35<09:26, 43.56s/it]\n",
      "       8/10         0G       1.08     0.9638      1.401        299        640:  59%|█████▉    | 19/32 [14:20<09:26, 43.56s/it]\n",
      "       8/10         0G       1.08     0.9638      1.401        299        640:  62%|██████▎   | 20/32 [14:20<08:46, 43.87s/it]\n",
      "       8/10         0G      1.083     0.9664      1.401        296        640:  62%|██████▎   | 20/32 [15:04<08:46, 43.87s/it]\n",
      "       8/10         0G      1.083     0.9664      1.401        296        640:  66%|██████▌   | 21/32 [15:04<08:02, 43.91s/it]\n",
      "       8/10         0G      1.086      0.968      1.402        319        640:  66%|██████▌   | 21/32 [15:50<08:02, 43.91s/it]\n",
      "       8/10         0G      1.086      0.968      1.402        319        640:  69%|██████▉   | 22/32 [15:50<07:24, 44.43s/it]\n",
      "       8/10         0G      1.089       0.97      1.404        297        640:  69%|██████▉   | 22/32 [16:34<07:24, 44.43s/it]\n",
      "       8/10         0G      1.089       0.97      1.404        297        640:  72%|███████▏  | 23/32 [16:34<06:40, 44.50s/it]\n",
      "       8/10         0G      1.089     0.9722      1.404        257        640:  72%|███████▏  | 23/32 [17:13<06:40, 44.50s/it]\n",
      "       8/10         0G      1.089     0.9722      1.404        257        640:  75%|███████▌  | 24/32 [17:13<05:43, 42.92s/it]\n",
      "       8/10         0G      1.088     0.9741      1.402        272        640:  75%|███████▌  | 24/32 [17:51<05:43, 42.92s/it]\n",
      "       8/10         0G      1.088     0.9741      1.402        272        640:  78%|███████▊  | 25/32 [17:51<04:48, 41.19s/it]\n",
      "       8/10         0G      1.092     0.9759      1.403        295        640:  78%|███████▊  | 25/32 [18:24<04:48, 41.19s/it]\n",
      "       8/10         0G      1.092     0.9759      1.403        295        640:  81%|████████▏ | 26/32 [18:24<03:53, 38.85s/it]\n",
      "       8/10         0G      1.092     0.9749      1.406        253        640:  81%|████████▏ | 26/32 [18:56<03:53, 38.85s/it]\n",
      "       8/10         0G      1.092     0.9749      1.406        253        640:  84%|████████▍ | 27/32 [18:56<03:03, 36.77s/it]\n",
      "       8/10         0G      1.094     0.9794      1.408        277        640:  84%|████████▍ | 27/32 [19:33<03:03, 36.77s/it]\n",
      "       8/10         0G      1.094     0.9794      1.408        277        640:  88%|████████▊ | 28/32 [19:33<02:27, 36.90s/it]\n",
      "       8/10         0G      1.096     0.9803      1.409        313        640:  88%|████████▊ | 28/32 [20:07<02:27, 36.90s/it]\n",
      "       8/10         0G      1.096     0.9803      1.409        313        640:  91%|█████████ | 29/32 [20:07<01:47, 35.89s/it]\n",
      "       8/10         0G      1.093      0.979      1.408        253        640:  91%|█████████ | 29/32 [20:39<01:47, 35.89s/it]\n",
      "       8/10         0G      1.093      0.979      1.408        253        640:  94%|█████████▍| 30/32 [20:39<01:09, 34.85s/it]\n",
      "       8/10         0G      1.093     0.9819      1.408        269        640:  94%|█████████▍| 30/32 [21:12<01:09, 34.85s/it]\n",
      "       8/10         0G      1.093     0.9819      1.408        269        640:  97%|█████████▋| 31/32 [21:12<00:34, 34.23s/it]\n",
      "       8/10         0G      1.096     0.9829      1.409        191        640:  97%|█████████▋| 31/32 [21:30<00:34, 34.23s/it]\n",
      "       8/10         0G      1.096     0.9829      1.409        191        640: 100%|██████████| 32/32 [21:30<00:00, 29.43s/it]\n",
      "       8/10         0G      1.096     0.9829      1.409        191        640: 100%|██████████| 32/32 [21:30<00:00, 40.33s/it]\n",
      "\n",
      "                 Class     Images  Instances      Box(P          R      mAP50  mAP50-95):   0%|          | 0/3 [00:00<?, ?it/s]\n",
      "                 Class     Images  Instances      Box(P          R      mAP50  mAP50-95):  33%|███▎      | 1/3 [00:18<00:36, 18.19s/it]\n",
      "                 Class     Images  Instances      Box(P          R      mAP50  mAP50-95):  67%|██████▋   | 2/3 [00:38<00:19, 19.27s/it]\n",
      "                 Class     Images  Instances      Box(P          R      mAP50  mAP50-95): 100%|██████████| 3/3 [00:55<00:00, 18.42s/it]\n",
      "                 Class     Images  Instances      Box(P          R      mAP50  mAP50-95): 100%|██████████| 3/3 [00:55<00:00, 18.54s/it]\n",
      "\n",
      "  0%|          | 0/32 [00:00<?, ?it/s]\n",
      "       9/10         0G      1.159     0.9421      1.413        329        640:   0%|          | 0/32 [00:30<?, ?it/s]\n",
      "       9/10         0G      1.159     0.9421      1.413        329        640:   3%|▎         | 1/32 [00:30<15:53, 30.75s/it]\n",
      "       9/10         0G       1.12     0.9524      1.424        235        640:   3%|▎         | 1/32 [01:00<15:53, 30.75s/it]\n",
      "       9/10         0G       1.12     0.9524      1.424        235        640:   6%|▋         | 2/32 [01:00<15:07, 30.24s/it]\n",
      "       9/10         0G      1.101     0.9652      1.436        210        640:   6%|▋         | 2/32 [01:31<15:07, 30.24s/it]\n",
      "       9/10         0G      1.101     0.9652      1.436        210        640:   9%|▉         | 3/32 [01:31<14:39, 30.33s/it]\n",
      "       9/10         0G      1.075       0.95      1.429        271        640:   9%|▉         | 3/32 [02:01<14:39, 30.33s/it]\n",
      "       9/10         0G      1.075       0.95      1.429        271        640:  12%|█▎        | 4/32 [02:01<14:05, 30.20s/it]\n",
      "       9/10         0G      1.072     0.9556      1.418        264        640:  12%|█▎        | 4/32 [02:33<14:05, 30.20s/it]\n",
      "       9/10         0G      1.072     0.9556      1.418        264        640:  16%|█▌        | 5/32 [02:33<13:52, 30.83s/it]\n",
      "       9/10         0G       1.07     0.9567      1.414        263        640:  16%|█▌        | 5/32 [03:04<13:52, 30.83s/it]\n",
      "       9/10         0G       1.07     0.9567      1.414        263        640:  19%|█▉        | 6/32 [03:04<13:23, 30.92s/it]\n",
      "       9/10         0G      1.071     0.9492      1.402        289        640:  19%|█▉        | 6/32 [03:35<13:23, 30.92s/it]\n",
      "       9/10         0G      1.071     0.9492      1.402        289        640:  22%|██▏       | 7/32 [03:35<12:57, 31.10s/it]\n",
      "       9/10         0G      1.077     0.9609      1.406        287        640:  22%|██▏       | 7/32 [04:06<12:57, 31.10s/it]\n",
      "       9/10         0G      1.077     0.9609      1.406        287        640:  25%|██▌       | 8/32 [04:06<12:27, 31.14s/it]\n",
      "       9/10         0G      1.083     0.9664      1.406        350        640:  25%|██▌       | 8/32 [04:45<12:27, 31.14s/it]\n",
      "       9/10         0G      1.083     0.9664      1.406        350        640:  28%|██▊       | 9/32 [04:45<12:52, 33.58s/it]\n",
      "       9/10         0G      1.086     0.9646      1.405        294        640:  28%|██▊       | 9/32 [05:18<12:52, 33.58s/it]\n",
      "       9/10         0G      1.086     0.9646      1.405        294        640:  31%|███▏      | 10/32 [05:18<12:15, 33.42s/it]\n",
      "       9/10         0G      1.092     0.9693      1.405        290        640:  31%|███▏      | 10/32 [05:49<12:15, 33.42s/it]\n",
      "       9/10         0G      1.092     0.9693      1.405        290        640:  34%|███▍      | 11/32 [05:49<11:22, 32.48s/it]\n",
      "       9/10         0G      1.087       0.96      1.399        293        640:  34%|███▍      | 11/32 [06:19<11:22, 32.48s/it]\n",
      "       9/10         0G      1.087       0.96      1.399        293        640:  38%|███▊      | 12/32 [06:19<10:36, 31.84s/it]\n",
      "       9/10         0G      1.087     0.9564      1.396        272        640:  38%|███▊      | 12/32 [06:50<10:36, 31.84s/it]\n",
      "       9/10         0G      1.087     0.9564      1.396        272        640:  41%|████      | 13/32 [06:50<09:58, 31.48s/it]\n",
      "       9/10         0G      1.088     0.9548      1.395        322        640:  41%|████      | 13/32 [07:20<09:58, 31.48s/it]\n",
      "       9/10         0G      1.088     0.9548      1.395        322        640:  44%|████▍     | 14/32 [07:20<09:21, 31.20s/it]\n",
      "       9/10         0G      1.084     0.9542      1.395        274        640:  44%|████▍     | 14/32 [07:50<09:21, 31.20s/it]\n",
      "       9/10         0G      1.084     0.9542      1.395        274        640:  47%|████▋     | 15/32 [07:50<08:43, 30.77s/it]\n",
      "       9/10         0G      1.083     0.9504      1.396        261        640:  47%|████▋     | 15/32 [08:20<08:43, 30.77s/it]\n",
      "       9/10         0G      1.083     0.9504      1.396        261        640:  50%|█████     | 16/32 [08:20<08:07, 30.49s/it]\n",
      "       9/10         0G      1.084      0.951      1.399        294        640:  50%|█████     | 16/32 [08:51<08:07, 30.49s/it]\n",
      "       9/10         0G      1.084      0.951      1.399        294        640:  53%|█████▎    | 17/32 [08:51<07:38, 30.55s/it]\n",
      "       9/10         0G      1.083     0.9473      1.396        308        640:  53%|█████▎    | 17/32 [09:21<07:38, 30.55s/it]\n",
      "       9/10         0G      1.083     0.9473      1.396        308        640:  56%|█████▋    | 18/32 [09:21<07:06, 30.48s/it]\n",
      "       9/10         0G      1.077     0.9424      1.392        252        640:  56%|█████▋    | 18/32 [09:51<07:06, 30.48s/it]\n",
      "       9/10         0G      1.077     0.9424      1.392        252        640:  59%|█████▉    | 19/32 [09:51<06:36, 30.48s/it]\n",
      "       9/10         0G      1.083     0.9442      1.398        289        640:  59%|█████▉    | 19/32 [10:22<06:36, 30.48s/it]\n",
      "       9/10         0G      1.083     0.9442      1.398        289        640:  62%|██████▎   | 20/32 [10:22<06:04, 30.41s/it]\n",
      "       9/10         0G      1.081     0.9427      1.397        264        640:  62%|██████▎   | 20/32 [10:52<06:04, 30.41s/it]\n",
      "       9/10         0G      1.081     0.9427      1.397        264        640:  66%|██████▌   | 21/32 [10:52<05:33, 30.34s/it]\n",
      "       9/10         0G       1.08     0.9384      1.396        252        640:  66%|██████▌   | 21/32 [11:23<05:33, 30.34s/it]\n",
      "       9/10         0G       1.08     0.9384      1.396        252        640:  69%|██████▉   | 22/32 [11:23<05:04, 30.48s/it]\n",
      "       9/10         0G      1.079     0.9369      1.393        274        640:  69%|██████▉   | 22/32 [11:54<05:04, 30.48s/it]\n",
      "       9/10         0G      1.079     0.9369      1.393        274        640:  72%|███████▏  | 23/32 [11:54<04:36, 30.67s/it]\n",
      "       9/10         0G      1.081     0.9339      1.392        335        640:  72%|███████▏  | 23/32 [12:25<04:36, 30.67s/it]\n",
      "       9/10         0G      1.081     0.9339      1.392        335        640:  75%|███████▌  | 24/32 [12:25<04:05, 30.73s/it]\n",
      "       9/10         0G      1.084     0.9349      1.396        262        640:  75%|███████▌  | 24/32 [12:56<04:05, 30.73s/it]\n",
      "       9/10         0G      1.084     0.9349      1.396        262        640:  78%|███████▊  | 25/32 [12:56<03:36, 30.90s/it]\n",
      "       9/10         0G       1.08     0.9306      1.396        243        640:  78%|███████▊  | 25/32 [13:26<03:36, 30.90s/it]\n",
      "       9/10         0G       1.08     0.9306      1.396        243        640:  81%|████████▏ | 26/32 [13:26<03:04, 30.79s/it]\n",
      "       9/10         0G       1.08     0.9317      1.396        250        640:  81%|████████▏ | 26/32 [13:56<03:04, 30.79s/it]\n",
      "       9/10         0G       1.08     0.9317      1.396        250        640:  84%|████████▍ | 27/32 [13:56<02:32, 30.51s/it]\n",
      "       9/10         0G      1.078     0.9299      1.393        275        640:  84%|████████▍ | 27/32 [14:26<02:32, 30.51s/it]\n",
      "       9/10         0G      1.078     0.9299      1.393        275        640:  88%|████████▊ | 28/32 [14:26<02:01, 30.38s/it]\n",
      "       9/10         0G      1.077     0.9316      1.393        258        640:  88%|████████▊ | 28/32 [14:57<02:01, 30.38s/it]\n",
      "       9/10         0G      1.077     0.9316      1.393        258        640:  91%|█████████ | 29/32 [14:57<01:31, 30.61s/it]\n",
      "       9/10         0G      1.076     0.9301      1.392        292        640:  91%|█████████ | 29/32 [15:28<01:31, 30.61s/it]\n",
      "       9/10         0G      1.076     0.9301      1.392        292        640:  94%|█████████▍| 30/32 [15:28<01:01, 30.55s/it]\n",
      "       9/10         0G      1.075     0.9307      1.392        260        640:  94%|█████████▍| 30/32 [15:59<01:01, 30.55s/it]\n",
      "       9/10         0G      1.075     0.9307      1.392        260        640:  97%|█████████▋| 31/32 [15:59<00:30, 30.58s/it]\n",
      "       9/10         0G      1.074     0.9287      1.392        159        640:  97%|█████████▋| 31/32 [16:15<00:30, 30.58s/it]\n",
      "       9/10         0G      1.074     0.9287      1.392        159        640: 100%|██████████| 32/32 [16:15<00:00, 26.43s/it]\n",
      "       9/10         0G      1.074     0.9287      1.392        159        640: 100%|██████████| 32/32 [16:15<00:00, 30.49s/it]\n",
      "\n",
      "                 Class     Images  Instances      Box(P          R      mAP50  mAP50-95):   0%|          | 0/3 [00:00<?, ?it/s]\n",
      "                 Class     Images  Instances      Box(P          R      mAP50  mAP50-95):  33%|███▎      | 1/3 [00:16<00:32, 16.23s/it]\n",
      "                 Class     Images  Instances      Box(P          R      mAP50  mAP50-95):  67%|██████▋   | 2/3 [00:34<00:17, 17.50s/it]\n",
      "                 Class     Images  Instances      Box(P          R      mAP50  mAP50-95): 100%|██████████| 3/3 [00:50<00:00, 16.71s/it]\n",
      "                 Class     Images  Instances      Box(P          R      mAP50  mAP50-95): 100%|██████████| 3/3 [00:50<00:00, 16.80s/it]\n",
      "\n",
      "  0%|          | 0/32 [00:00<?, ?it/s]\n",
      "      10/10         0G      1.087     0.9214      1.324        310        640:   0%|          | 0/32 [00:30<?, ?it/s]\n",
      "      10/10         0G      1.087     0.9214      1.324        310        640:   3%|▎         | 1/32 [00:30<15:50, 30.66s/it]\n",
      "      10/10         0G      1.032     0.9167      1.329        252        640:   3%|▎         | 1/32 [01:00<15:50, 30.66s/it]\n",
      "      10/10         0G      1.032     0.9167      1.329        252        640:   6%|▋         | 2/32 [01:00<15:03, 30.12s/it]\n",
      "      10/10         0G      1.009      0.871       1.31        291        640:   6%|▋         | 2/32 [01:30<15:03, 30.12s/it]\n",
      "      10/10         0G      1.009      0.871       1.31        291        640:   9%|▉         | 3/32 [01:30<14:31, 30.05s/it]\n",
      "      10/10         0G       1.03     0.8836      1.313        299        640:   9%|▉         | 3/32 [02:00<14:31, 30.05s/it]\n",
      "      10/10         0G       1.03     0.8836      1.313        299        640:  12%|█▎        | 4/32 [02:00<14:04, 30.16s/it]\n",
      "      10/10         0G      1.037     0.8968      1.329        283        640:  12%|█▎        | 4/32 [02:30<14:04, 30.16s/it]\n",
      "      10/10         0G      1.037     0.8968      1.329        283        640:  16%|█▌        | 5/32 [02:30<13:33, 30.12s/it]\n",
      "      10/10         0G      1.038     0.8962      1.336        284        640:  16%|█▌        | 5/32 [03:00<13:33, 30.12s/it]\n",
      "      10/10         0G      1.038     0.8962      1.336        284        640:  19%|█▉        | 6/32 [03:00<12:58, 29.95s/it]\n",
      "      10/10         0G       1.03      0.896      1.337        244        640:  19%|█▉        | 6/32 [03:30<12:58, 29.95s/it]\n",
      "      10/10         0G       1.03      0.896      1.337        244        640:  22%|██▏       | 7/32 [03:30<12:30, 30.04s/it]\n",
      "      10/10         0G      1.051     0.9093      1.355        298        640:  22%|██▏       | 7/32 [04:01<12:30, 30.04s/it]\n",
      "      10/10         0G      1.051     0.9093      1.355        298        640:  25%|██▌       | 8/32 [04:01<12:04, 30.18s/it]\n",
      "      10/10         0G      1.057     0.9013      1.358        268        640:  25%|██▌       | 8/32 [04:31<12:04, 30.18s/it]\n",
      "      10/10         0G      1.057     0.9013      1.358        268        640:  28%|██▊       | 9/32 [04:31<11:34, 30.21s/it]\n",
      "      10/10         0G      1.052     0.8976      1.354        310        640:  28%|██▊       | 9/32 [05:01<11:34, 30.21s/it]\n",
      "      10/10         0G      1.052     0.8976      1.354        310        640:  31%|███▏      | 10/32 [05:01<11:04, 30.19s/it]\n",
      "      10/10         0G      1.056     0.8959      1.357        294        640:  31%|███▏      | 10/32 [05:31<11:04, 30.19s/it]\n",
      "      10/10         0G      1.056     0.8959      1.357        294        640:  34%|███▍      | 11/32 [05:31<10:35, 30.25s/it]\n",
      "      10/10         0G       1.04     0.8863      1.351        217        640:  34%|███▍      | 11/32 [06:01<10:35, 30.25s/it]\n",
      "      10/10         0G       1.04     0.8863      1.351        217        640:  38%|███▊      | 12/32 [06:01<10:02, 30.11s/it]\n",
      "      10/10         0G       1.04      0.889       1.35        278        640:  38%|███▊      | 12/32 [06:32<10:02, 30.11s/it]\n",
      "      10/10         0G       1.04      0.889       1.35        278        640:  41%|████      | 13/32 [06:32<09:34, 30.24s/it]\n",
      "      10/10         0G      1.028     0.8823      1.349        223        640:  41%|████      | 13/32 [07:02<09:34, 30.24s/it]\n",
      "      10/10         0G      1.028     0.8823      1.349        223        640:  44%|████▍     | 14/32 [07:02<09:03, 30.19s/it]\n",
      "      10/10         0G      1.029     0.8785      1.346        303        640:  44%|████▍     | 14/32 [07:32<09:03, 30.19s/it]\n",
      "      10/10         0G      1.029     0.8785      1.346        303        640:  47%|████▋     | 15/32 [07:32<08:32, 30.17s/it]\n",
      "      10/10         0G      1.031     0.8825      1.349        261        640:  47%|████▋     | 15/32 [08:01<08:32, 30.17s/it]\n",
      "      10/10         0G      1.031     0.8825      1.349        261        640:  50%|█████     | 16/32 [08:01<07:59, 29.99s/it]\n",
      "      10/10         0G      1.035     0.8822      1.352        306        640:  50%|█████     | 16/32 [08:32<07:59, 29.99s/it]\n",
      "      10/10         0G      1.035     0.8822      1.352        306        640:  53%|█████▎    | 17/32 [08:32<07:30, 30.05s/it]\n",
      "      10/10         0G      1.034     0.8784      1.349        295        640:  53%|█████▎    | 17/32 [09:01<07:30, 30.05s/it]\n",
      "      10/10         0G      1.034     0.8784      1.349        295        640:  56%|█████▋    | 18/32 [09:01<06:58, 29.87s/it]\n",
      "      10/10         0G      1.031     0.8786      1.351        254        640:  56%|█████▋    | 18/32 [09:32<06:58, 29.87s/it]\n",
      "      10/10         0G      1.031     0.8786      1.351        254        640:  59%|█████▉    | 19/32 [09:32<06:30, 30.02s/it]\n",
      "      10/10         0G      1.028     0.8751       1.35        233        640:  59%|█████▉    | 19/32 [10:02<06:30, 30.02s/it]\n",
      "      10/10         0G      1.028     0.8751       1.35        233        640:  62%|██████▎   | 20/32 [10:02<06:00, 30.07s/it]\n",
      "      10/10         0G      1.028     0.8754       1.35        270        640:  62%|██████▎   | 20/32 [10:32<06:00, 30.07s/it]\n",
      "      10/10         0G      1.028     0.8754       1.35        270        640:  66%|██████▌   | 21/32 [10:32<05:32, 30.22s/it]\n",
      "      10/10         0G       1.03     0.8744       1.35        282        640:  66%|██████▌   | 21/32 [11:03<05:32, 30.22s/it]\n",
      "      10/10         0G       1.03     0.8744       1.35        282        640:  69%|██████▉   | 22/32 [11:03<05:04, 30.44s/it]\n",
      "      10/10         0G      1.031     0.8745      1.349        305        640:  69%|██████▉   | 22/32 [11:33<05:04, 30.44s/it]\n",
      "      10/10         0G      1.031     0.8745      1.349        305        640:  72%|███████▏  | 23/32 [11:33<04:33, 30.37s/it]\n",
      "      10/10         0G      1.032     0.8764      1.352        275        640:  72%|███████▏  | 23/32 [12:03<04:33, 30.37s/it]\n",
      "      10/10         0G      1.032     0.8764      1.352        275        640:  75%|███████▌  | 24/32 [12:03<04:01, 30.21s/it]\n",
      "      10/10         0G       1.03     0.8752      1.349        268        640:  75%|███████▌  | 24/32 [12:34<04:01, 30.21s/it]\n",
      "      10/10         0G       1.03     0.8752      1.349        268        640:  78%|███████▊  | 25/32 [12:34<03:32, 30.32s/it]\n",
      "      10/10         0G      1.033      0.876      1.349        333        640:  78%|███████▊  | 25/32 [13:04<03:32, 30.32s/it]\n",
      "      10/10         0G      1.033      0.876      1.349        333        640:  81%|████████▏ | 26/32 [13:04<03:02, 30.37s/it]\n",
      "      10/10         0G      1.032     0.8746      1.349        256        640:  81%|████████▏ | 26/32 [13:34<03:02, 30.37s/it]\n",
      "      10/10         0G      1.032     0.8746      1.349        256        640:  84%|████████▍ | 27/32 [13:34<02:30, 30.16s/it]\n",
      "      10/10         0G      1.034     0.8737      1.353        280        640:  84%|████████▍ | 27/32 [14:04<02:30, 30.16s/it]\n",
      "      10/10         0G      1.034     0.8737      1.353        280        640:  88%|████████▊ | 28/32 [14:04<02:01, 30.26s/it]\n",
      "      10/10         0G      1.033     0.8716      1.351        271        640:  88%|████████▊ | 28/32 [14:35<02:01, 30.26s/it]\n",
      "      10/10         0G      1.033     0.8716      1.351        271        640:  91%|█████████ | 29/32 [14:35<01:30, 30.31s/it]\n",
      "      10/10         0G      1.031      0.868      1.349        274        640:  91%|█████████ | 29/32 [15:05<01:30, 30.31s/it]\n",
      "      10/10         0G      1.031      0.868      1.349        274        640:  94%|█████████▍| 30/32 [15:05<01:00, 30.29s/it]\n",
      "      10/10         0G      1.029     0.8689      1.349        262        640:  94%|█████████▍| 30/32 [15:36<01:00, 30.29s/it]\n",
      "      10/10         0G      1.029     0.8689      1.349        262        640:  97%|█████████▋| 31/32 [15:36<00:30, 30.32s/it]\n",
      "      10/10         0G      1.031     0.8671      1.348        172        640:  97%|█████████▋| 31/32 [15:53<00:30, 30.32s/it]\n",
      "      10/10         0G      1.031     0.8671      1.348        172        640: 100%|██████████| 32/32 [15:53<00:00, 26.40s/it]\n",
      "      10/10         0G      1.031     0.8671      1.348        172        640: 100%|██████████| 32/32 [15:53<00:00, 29.79s/it]\n",
      "\n",
      "                 Class     Images  Instances      Box(P          R      mAP50  mAP50-95):   0%|          | 0/3 [00:00<?, ?it/s]\n",
      "                 Class     Images  Instances      Box(P          R      mAP50  mAP50-95):  33%|███▎      | 1/3 [00:16<00:32, 16.33s/it]\n",
      "                 Class     Images  Instances      Box(P          R      mAP50  mAP50-95):  67%|██████▋   | 2/3 [00:34<00:17, 17.52s/it]\n",
      "                 Class     Images  Instances      Box(P          R      mAP50  mAP50-95): 100%|██████████| 3/3 [00:50<00:00, 16.68s/it]\n",
      "                 Class     Images  Instances      Box(P          R      mAP50  mAP50-95): 100%|██████████| 3/3 [00:50<00:00, 16.79s/it]\n",
      "\n",
      "                 Class     Images  Instances      Box(P          R      mAP50  mAP50-95):   0%|          | 0/3 [00:00<?, ?it/s]\n",
      "                 Class     Images  Instances      Box(P          R      mAP50  mAP50-95):  33%|███▎      | 1/3 [00:14<00:28, 14.17s/it]\n",
      "                 Class     Images  Instances      Box(P          R      mAP50  mAP50-95):  67%|██████▋   | 2/3 [00:30<00:15, 15.30s/it]\n",
      "                 Class     Images  Instances      Box(P          R      mAP50  mAP50-95): 100%|██████████| 3/3 [00:44<00:00, 14.77s/it]\n",
      "                 Class     Images  Instances      Box(P          R      mAP50  mAP50-95): 100%|██████████| 3/3 [00:44<00:00, 14.80s/it]\n"
     ]
    }
   ],
   "source": [
    "!yolo task=detect mode=train model=r'C:\\Users\\Arthur\\3_ambiente_de_testes\\deteccao_objetos\\runs\\detect\\train4\\weights\\last.pt' data=configs_modelo.yaml epochs=10 batch=128 workers=8 verbose=True save=True"
   ]
  },
  {
   "cell_type": "markdown",
   "metadata": {},
   "source": [
    "## Treino com python\n"
   ]
  },
  {
   "cell_type": "code",
   "execution_count": 21,
   "metadata": {},
   "outputs": [
    {
     "name": "stdout",
     "output_type": "stream",
     "text": [
      "New https://pypi.org/project/ultralytics/8.3.57 available  Update with 'pip install -U ultralytics'\n",
      "Ultralytics 8.3.51  Python-3.12.5 torch-2.5.1+cpu CPU (Intel Core(TM) i7-14700KF)\n",
      "\u001b[34m\u001b[1mengine\\trainer: \u001b[0mtask=detect, mode=train, model=C:\\Users\\Arthur\\3_ambiente_de_testes\\deteccao_objetos\\runs\\detect\\train5\\weights\\best.pt, data=configs_modelo.yaml, epochs=10, time=None, patience=100, batch=128, imgsz=640, save=True, save_period=-1, cache=False, device=None, workers=8, project=None, name=train6, exist_ok=False, pretrained=True, optimizer=auto, verbose=True, seed=0, deterministic=True, single_cls=False, rect=False, cos_lr=False, close_mosaic=10, resume=False, amp=True, fraction=1.0, profile=False, freeze=None, multi_scale=False, overlap_mask=True, mask_ratio=4, dropout=0.0, val=True, split=val, save_json=False, save_hybrid=False, conf=None, iou=0.7, max_det=300, half=False, dnn=False, plots=True, source=None, vid_stride=1, stream_buffer=False, visualize=False, augment=False, agnostic_nms=False, classes=None, retina_masks=False, embed=None, show=False, save_frames=False, save_txt=False, save_conf=False, save_crop=False, show_labels=True, show_conf=True, show_boxes=True, line_width=None, format=torchscript, keras=False, optimize=False, int8=False, dynamic=False, simplify=True, opset=None, workspace=None, nms=False, lr0=0.01, lrf=0.01, momentum=0.937, weight_decay=0.0005, warmup_epochs=3.0, warmup_momentum=0.8, warmup_bias_lr=0.1, box=7.5, cls=0.5, dfl=1.5, pose=12.0, kobj=1.0, nbs=64, hsv_h=0.015, hsv_s=0.7, hsv_v=0.4, degrees=0.0, translate=0.1, scale=0.5, shear=0.0, perspective=0.0, flipud=0.0, fliplr=0.5, bgr=0.0, mosaic=1.0, mixup=0.0, copy_paste=0.0, copy_paste_mode=flip, auto_augment=randaugment, erasing=0.4, crop_fraction=1.0, cfg=None, tracker=botsort.yaml, save_dir=runs\\detect\\train6\n",
      "\n",
      "                   from  n    params  module                                       arguments                     \n",
      "  0                  -1  1       928  ultralytics.nn.modules.conv.Conv             [3, 32, 3, 2]                 \n",
      "  1                  -1  1     18560  ultralytics.nn.modules.conv.Conv             [32, 64, 3, 2]                \n",
      "  2                  -1  1     29056  ultralytics.nn.modules.block.C2f             [64, 64, 1, True]             \n",
      "  3                  -1  1     73984  ultralytics.nn.modules.conv.Conv             [64, 128, 3, 2]               \n",
      "  4                  -1  2    197632  ultralytics.nn.modules.block.C2f             [128, 128, 2, True]           \n",
      "  5                  -1  1    295424  ultralytics.nn.modules.conv.Conv             [128, 256, 3, 2]              \n",
      "  6                  -1  2    788480  ultralytics.nn.modules.block.C2f             [256, 256, 2, True]           \n",
      "  7                  -1  1   1180672  ultralytics.nn.modules.conv.Conv             [256, 512, 3, 2]              \n",
      "  8                  -1  1   1838080  ultralytics.nn.modules.block.C2f             [512, 512, 1, True]           \n",
      "  9                  -1  1    656896  ultralytics.nn.modules.block.SPPF            [512, 512, 5]                 \n",
      " 10                  -1  1         0  torch.nn.modules.upsampling.Upsample         [None, 2, 'nearest']          \n",
      " 11             [-1, 6]  1         0  ultralytics.nn.modules.conv.Concat           [1]                           \n",
      " 12                  -1  1    591360  ultralytics.nn.modules.block.C2f             [768, 256, 1]                 \n",
      " 13                  -1  1         0  torch.nn.modules.upsampling.Upsample         [None, 2, 'nearest']          \n",
      " 14             [-1, 4]  1         0  ultralytics.nn.modules.conv.Concat           [1]                           \n",
      " 15                  -1  1    148224  ultralytics.nn.modules.block.C2f             [384, 128, 1]                 \n",
      " 16                  -1  1    147712  ultralytics.nn.modules.conv.Conv             [128, 128, 3, 2]              \n",
      " 17            [-1, 12]  1         0  ultralytics.nn.modules.conv.Concat           [1]                           \n",
      " 18                  -1  1    493056  ultralytics.nn.modules.block.C2f             [384, 256, 1]                 \n",
      " 19                  -1  1    590336  ultralytics.nn.modules.conv.Conv             [256, 256, 3, 2]              \n",
      " 20             [-1, 9]  1         0  ultralytics.nn.modules.conv.Concat           [1]                           \n",
      " 21                  -1  1   1969152  ultralytics.nn.modules.block.C2f             [768, 512, 1]                 \n",
      " 22        [15, 18, 21]  1   2119531  ultralytics.nn.modules.head.Detect           [9, [128, 256, 512]]          \n",
      "YOLOv8s summary: 225 layers, 11,139,083 parameters, 11,139,067 gradients, 28.7 GFLOPs\n",
      "\n",
      "Transferred 355/355 items from pretrained weights\n",
      "\u001b[34m\u001b[1mTensorBoard: \u001b[0mStart with 'tensorboard --logdir runs\\detect\\train6', view at http://localhost:6006/\n",
      "Freezing layer 'model.22.dfl.conv.weight'\n"
     ]
    },
    {
     "name": "stderr",
     "output_type": "stream",
     "text": [
      "\u001b[34m\u001b[1mtrain: \u001b[0mScanning C:\\Users\\Arthur\\3_ambiente_de_testes\\deteccao_objetos\\dataset\\train.cache... 4040 images, 0 backgrounds, 0 corrupt: 100%|██████████| 4040/4040 [00:00<?, ?it/s]"
     ]
    },
    {
     "name": "stdout",
     "output_type": "stream",
     "text": [
      "\u001b[34m\u001b[1mtrain: \u001b[0mWARNING  C:\\Users\\Arthur\\3_ambiente_de_testes\\deteccao_objetos\\dataset\\train\\486495ac4e20c949.jpg: 1 duplicate labels removed\n"
     ]
    },
    {
     "name": "stderr",
     "output_type": "stream",
     "text": [
      "\n",
      "\u001b[34m\u001b[1mval: \u001b[0mScanning C:\\Users\\Arthur\\3_ambiente_de_testes\\deteccao_objetos\\dataset\\valid.cache... 686 images, 0 backgrounds, 0 corrupt: 100%|██████████| 686/686 [00:00<?, ?it/s]"
     ]
    },
    {
     "name": "stdout",
     "output_type": "stream",
     "text": [
      "Plotting labels to runs\\detect\\train6\\labels.jpg... \n"
     ]
    },
    {
     "name": "stderr",
     "output_type": "stream",
     "text": [
      "\n"
     ]
    },
    {
     "name": "stdout",
     "output_type": "stream",
     "text": [
      "\u001b[34m\u001b[1moptimizer:\u001b[0m 'optimizer=auto' found, ignoring 'lr0=0.01' and 'momentum=0.937' and determining best 'optimizer', 'lr0' and 'momentum' automatically... \n",
      "\u001b[34m\u001b[1moptimizer:\u001b[0m AdamW(lr=0.000769, momentum=0.9) with parameter groups 57 weight(decay=0.0), 64 weight(decay=0.001), 63 bias(decay=0.0)\n",
      "\u001b[34m\u001b[1mTensorBoard: \u001b[0mmodel graph visualization added \n",
      "Image sizes 640 train, 640 val\n",
      "Using 0 dataloader workers\n",
      "Logging results to \u001b[1mruns\\detect\\train6\u001b[0m\n",
      "Starting training for 10 epochs...\n",
      "Closing dataloader mosaic\n",
      "\n",
      "      Epoch    GPU_mem   box_loss   cls_loss   dfl_loss  Instances       Size\n"
     ]
    },
    {
     "name": "stderr",
     "output_type": "stream",
     "text": [
      "       1/10         0G     0.9652     0.8012        1.3        125        640: 100%|██████████| 32/32 [21:48<00:00, 40.89s/it]\n",
      "                 Class     Images  Instances      Box(P          R      mAP50  mAP50-95): 100%|██████████| 3/3 [00:54<00:00, 18.30s/it]"
     ]
    },
    {
     "name": "stdout",
     "output_type": "stream",
     "text": [
      "                   all        686       1041      0.734      0.634      0.676      0.491\n"
     ]
    },
    {
     "name": "stderr",
     "output_type": "stream",
     "text": [
      "\n"
     ]
    },
    {
     "name": "stdout",
     "output_type": "stream",
     "text": [
      "\n",
      "      Epoch    GPU_mem   box_loss   cls_loss   dfl_loss  Instances       Size\n"
     ]
    },
    {
     "name": "stderr",
     "output_type": "stream",
     "text": [
      "       2/10         0G     0.9825     0.8293      1.306        144        640: 100%|██████████| 32/32 [17:28<00:00, 32.77s/it]\n",
      "                 Class     Images  Instances      Box(P          R      mAP50  mAP50-95): 100%|██████████| 3/3 [00:55<00:00, 18.55s/it]"
     ]
    },
    {
     "name": "stdout",
     "output_type": "stream",
     "text": [
      "                   all        686       1041      0.678      0.629      0.647      0.459\n"
     ]
    },
    {
     "name": "stderr",
     "output_type": "stream",
     "text": [
      "\n"
     ]
    },
    {
     "name": "stdout",
     "output_type": "stream",
     "text": [
      "\n",
      "      Epoch    GPU_mem   box_loss   cls_loss   dfl_loss  Instances       Size\n"
     ]
    },
    {
     "name": "stderr",
     "output_type": "stream",
     "text": [
      "       3/10         0G      1.044     0.9166      1.362        176        640: 100%|██████████| 32/32 [21:50<00:00, 40.95s/it]\n",
      "                 Class     Images  Instances      Box(P          R      mAP50  mAP50-95): 100%|██████████| 3/3 [01:00<00:00, 20.29s/it]"
     ]
    },
    {
     "name": "stdout",
     "output_type": "stream",
     "text": [
      "                   all        686       1041       0.66       0.57      0.604      0.403\n"
     ]
    },
    {
     "name": "stderr",
     "output_type": "stream",
     "text": [
      "\n"
     ]
    },
    {
     "name": "stdout",
     "output_type": "stream",
     "text": [
      "\n",
      "      Epoch    GPU_mem   box_loss   cls_loss   dfl_loss  Instances       Size\n"
     ]
    },
    {
     "name": "stderr",
     "output_type": "stream",
     "text": [
      "       4/10         0G      1.098     0.9997      1.409        181        640: 100%|██████████| 32/32 [17:37<00:00, 33.06s/it]\n",
      "                 Class     Images  Instances      Box(P          R      mAP50  mAP50-95): 100%|██████████| 3/3 [00:52<00:00, 17.36s/it]"
     ]
    },
    {
     "name": "stdout",
     "output_type": "stream",
     "text": [
      "                   all        686       1041      0.648      0.608      0.618      0.438\n"
     ]
    },
    {
     "name": "stderr",
     "output_type": "stream",
     "text": [
      "\n"
     ]
    },
    {
     "name": "stdout",
     "output_type": "stream",
     "text": [
      "\n",
      "      Epoch    GPU_mem   box_loss   cls_loss   dfl_loss  Instances       Size\n"
     ]
    },
    {
     "name": "stderr",
     "output_type": "stream",
     "text": [
      "       5/10         0G      1.089     0.9788      1.394        155        640: 100%|██████████| 32/32 [16:27<00:00, 30.87s/it]\n",
      "                 Class     Images  Instances      Box(P          R      mAP50  mAP50-95): 100%|██████████| 3/3 [00:51<00:00, 17.23s/it]"
     ]
    },
    {
     "name": "stdout",
     "output_type": "stream",
     "text": [
      "                   all        686       1041      0.706      0.568      0.634      0.436\n"
     ]
    },
    {
     "name": "stderr",
     "output_type": "stream",
     "text": [
      "\n"
     ]
    },
    {
     "name": "stdout",
     "output_type": "stream",
     "text": [
      "\n",
      "      Epoch    GPU_mem   box_loss   cls_loss   dfl_loss  Instances       Size\n"
     ]
    },
    {
     "name": "stderr",
     "output_type": "stream",
     "text": [
      "       6/10         0G      1.058     0.9333      1.367        167        640: 100%|██████████| 32/32 [21:48<00:00, 40.89s/it]\n",
      "                 Class     Images  Instances      Box(P          R      mAP50  mAP50-95): 100%|██████████| 3/3 [01:07<00:00, 22.49s/it]"
     ]
    },
    {
     "name": "stdout",
     "output_type": "stream",
     "text": [
      "                   all        686       1041      0.651      0.598      0.606      0.431\n"
     ]
    },
    {
     "name": "stderr",
     "output_type": "stream",
     "text": [
      "\n"
     ]
    },
    {
     "name": "stdout",
     "output_type": "stream",
     "text": [
      "\n",
      "      Epoch    GPU_mem   box_loss   cls_loss   dfl_loss  Instances       Size\n"
     ]
    },
    {
     "name": "stderr",
     "output_type": "stream",
     "text": [
      "       7/10         0G      1.029     0.8941      1.337        175        640: 100%|██████████| 32/32 [18:25<00:00, 34.54s/it]\n",
      "                 Class     Images  Instances      Box(P          R      mAP50  mAP50-95): 100%|██████████| 3/3 [00:50<00:00, 16.87s/it]"
     ]
    },
    {
     "name": "stdout",
     "output_type": "stream",
     "text": [
      "                   all        686       1041      0.692      0.593      0.618      0.442\n"
     ]
    },
    {
     "name": "stderr",
     "output_type": "stream",
     "text": [
      "\n"
     ]
    },
    {
     "name": "stdout",
     "output_type": "stream",
     "text": [
      "\n",
      "      Epoch    GPU_mem   box_loss   cls_loss   dfl_loss  Instances       Size\n"
     ]
    },
    {
     "name": "stderr",
     "output_type": "stream",
     "text": [
      "       8/10         0G      1.006     0.8536      1.329        191        640: 100%|██████████| 32/32 [19:16<00:00, 36.15s/it]\n",
      "                 Class     Images  Instances      Box(P          R      mAP50  mAP50-95): 100%|██████████| 3/3 [00:50<00:00, 16.92s/it]"
     ]
    },
    {
     "name": "stdout",
     "output_type": "stream",
     "text": [
      "                   all        686       1041      0.682      0.635      0.666      0.463\n"
     ]
    },
    {
     "name": "stderr",
     "output_type": "stream",
     "text": [
      "\n"
     ]
    },
    {
     "name": "stdout",
     "output_type": "stream",
     "text": [
      "\n",
      "      Epoch    GPU_mem   box_loss   cls_loss   dfl_loss  Instances       Size\n"
     ]
    },
    {
     "name": "stderr",
     "output_type": "stream",
     "text": [
      "       9/10         0G      0.994     0.8139       1.32        159        640: 100%|██████████| 32/32 [16:24<00:00, 30.75s/it]\n",
      "                 Class     Images  Instances      Box(P          R      mAP50  mAP50-95): 100%|██████████| 3/3 [00:53<00:00, 17.97s/it]"
     ]
    },
    {
     "name": "stdout",
     "output_type": "stream",
     "text": [
      "                   all        686       1041      0.678      0.658      0.665      0.485\n"
     ]
    },
    {
     "name": "stderr",
     "output_type": "stream",
     "text": [
      "\n"
     ]
    },
    {
     "name": "stdout",
     "output_type": "stream",
     "text": [
      "\n",
      "      Epoch    GPU_mem   box_loss   cls_loss   dfl_loss  Instances       Size\n"
     ]
    },
    {
     "name": "stderr",
     "output_type": "stream",
     "text": [
      "      10/10         0G     0.9757     0.7842      1.299        172        640: 100%|██████████| 32/32 [17:39<00:00, 33.12s/it]\n",
      "                 Class     Images  Instances      Box(P          R      mAP50  mAP50-95): 100%|██████████| 3/3 [01:00<00:00, 20.23s/it]"
     ]
    },
    {
     "name": "stdout",
     "output_type": "stream",
     "text": [
      "                   all        686       1041      0.705      0.647      0.677      0.485\n"
     ]
    },
    {
     "name": "stderr",
     "output_type": "stream",
     "text": [
      "\n"
     ]
    },
    {
     "name": "stdout",
     "output_type": "stream",
     "text": [
      "\n",
      "10 epochs completed in 3.304 hours.\n",
      "Optimizer stripped from runs\\detect\\train6\\weights\\last.pt, 22.5MB\n",
      "Optimizer stripped from runs\\detect\\train6\\weights\\best.pt, 22.5MB\n",
      "\n",
      "Validating runs\\detect\\train6\\weights\\best.pt...\n",
      "Ultralytics 8.3.51  Python-3.12.5 torch-2.5.1+cpu CPU (Intel Core(TM) i7-14700KF)\n",
      "YOLOv8s summary (fused): 168 layers, 11,129,067 parameters, 0 gradients, 28.5 GFLOPs\n"
     ]
    },
    {
     "name": "stderr",
     "output_type": "stream",
     "text": [
      "                 Class     Images  Instances      Box(P          R      mAP50  mAP50-95): 100%|██████████| 3/3 [00:48<00:00, 16.07s/it]\n"
     ]
    },
    {
     "name": "stdout",
     "output_type": "stream",
     "text": [
      "                   all        686       1041      0.733      0.634      0.676      0.491\n",
      "               Bicycle        100        154      0.664      0.474      0.577      0.349\n",
      "                   Car        108        196      0.596      0.474      0.477      0.343\n",
      "                Stairs        100        117      0.606       0.46      0.479      0.219\n",
      "         Traffic light         61        131      0.656      0.603      0.567      0.317\n",
      "            Motorcycle        100        140      0.696      0.564      0.654      0.421\n",
      "                   Bus        101        139      0.857      0.705      0.768      0.632\n",
      "          Fire hydrant         57         57      0.932      0.957       0.96      0.789\n",
      "         Parking meter          3          3          1      0.961      0.995      0.929\n",
      "                  Taxi         70        104       0.59       0.51      0.605       0.42\n",
      "Speed: 0.6ms preprocess, 62.0ms inference, 0.0ms loss, 0.1ms postprocess per image\n",
      "Results saved to \u001b[1mruns\\detect\\train6\u001b[0m\n",
      "0.4910971784636124\n"
     ]
    }
   ],
   "source": [
    "from ultralytics import YOLO\n",
    "\n",
    "# Load the model\n",
    "model = YOLO(r\"C:\\Users\\Arthur\\3_ambiente_de_testes\\deteccao_objetos\\runs\\detect\\train5\\weights\\best.pt\")\n",
    "\n",
    "# Validate the model\n",
    "metrics = model.train(data='configs_modelo.yaml', epochs=10, batch=128, workers=8, save=True)\n",
    "print(metrics.box.map)  # mAP50-95"
   ]
  },
  {
   "cell_type": "markdown",
   "metadata": {},
   "source": [
    "## Metricas do modelo\n"
   ]
  },
  {
   "cell_type": "code",
   "execution_count": 20,
   "metadata": {},
   "outputs": [
    {
     "name": "stdout",
     "output_type": "stream",
     "text": [
      "Ultralytics 8.3.51  Python-3.12.5 torch-2.5.1+cpu CPU (Intel Core(TM) i7-14700KF)\n",
      "YOLOv8s summary (fused): 168 layers, 11,129,067 parameters, 0 gradients, 28.5 GFLOPs\n"
     ]
    },
    {
     "name": "stderr",
     "output_type": "stream",
     "text": [
      "\u001b[34m\u001b[1mval: \u001b[0mScanning C:\\Users\\Arthur\\3_ambiente_de_testes\\deteccao_objetos\\dataset\\valid.cache... 686 images, 0 backgrounds, 0 corrupt: 100%|██████████| 686/686 [00:00<?, ?it/s]\n",
      "                 Class     Images  Instances      Box(P          R      mAP50  mAP50-95): 100%|██████████| 6/6 [00:40<00:00,  6.82s/it]\n"
     ]
    },
    {
     "name": "stdout",
     "output_type": "stream",
     "text": [
      "                   all        686       1041      0.701      0.674      0.687      0.503\n",
      "               Bicycle        100        154      0.686      0.483      0.589      0.362\n",
      "                   Car        108        196      0.625      0.469      0.493      0.355\n",
      "                Stairs        100        117      0.588      0.414      0.465      0.232\n",
      "         Traffic light         61        131      0.625      0.618      0.566      0.316\n",
      "            Motorcycle        100        140      0.708      0.636      0.687      0.433\n",
      "                   Bus        101        139      0.826      0.734      0.768      0.642\n",
      "          Fire hydrant         57         57      0.919      0.982      0.975      0.771\n",
      "         Parking meter          3          3      0.826          1      0.995      0.962\n",
      "                  Taxi         70        104      0.507      0.731      0.648      0.451\n",
      "Speed: 0.8ms preprocess, 51.5ms inference, 0.0ms loss, 0.1ms postprocess per image\n",
      "Results saved to \u001b[1mruns\\detect\\val2\u001b[0m\n",
      "0.5025731013224425\n"
     ]
    }
   ],
   "source": [
    "from ultralytics import YOLO\n",
    "\n",
    "# Load the model\n",
    "model = YOLO(r\"C:\\Users\\Arthur\\3_ambiente_de_testes\\deteccao_objetos\\runs\\detect\\train4\\weights\\best.pt\")\n",
    "\n",
    "# Validate the model\n",
    "metrics = model.val()\n",
    "print(metrics.box.map)  # mAP50-95"
   ]
  },
  {
   "cell_type": "markdown",
   "metadata": {},
   "source": [
    "## Predição"
   ]
  },
  {
   "cell_type": "code",
   "execution_count": 17,
   "metadata": {
    "colab": {
     "base_uri": "https://localhost:8080/"
    },
    "executionInfo": {
     "elapsed": 7959,
     "status": "ok",
     "timestamp": 1675952155115,
     "user": {
      "displayName": "Jones Granatyr",
      "userId": "10042675233362078631"
     },
     "user_tz": 180
    },
    "id": "5orUMwZxh3jI",
    "outputId": "3a608327-9289-403d-b3c4-de93c8bad0e8"
   },
   "outputs": [
    {
     "name": "stdout",
     "output_type": "stream",
     "text": [
      "Ultralytics 8.3.51 🚀 Python-3.12.5 torch-2.5.1+cpu CPU (Intel Core(TM) i7-14700KF)\n",
      "YOLOv8s summary (fused): 168 layers, 11,129,067 parameters, 0 gradients, 28.5 GFLOPs\n",
      "\n",
      "image 1/1 c:\\Users\\Arthur\\3_ambiente_de_testes\\deteccao_objetos\\imagens_teste\\payload(1).jpg: 640x640 1 Bicycle, 1 Car, 1 Stairs, 3 Traffic lights, 61.1ms\n",
      "Speed: 0.0ms preprocess, 61.1ms inference, 0.0ms postprocess per image at shape (1, 3, 640, 640)\n",
      "Results saved to \u001b[1mruns\\detect\\predict\u001b[0m\n",
      "💡 Learn more at https://docs.ultralytics.com/modes/predict\n"
     ]
    }
   ],
   "source": [
    "!yolo task=detect mode=predict model=runs/detect/train5//weights/best.pt source='imagens_teste/payload(1).jpg' save=true"
   ]
  },
  {
   "cell_type": "code",
   "execution_count": 18,
   "metadata": {},
   "outputs": [
    {
     "name": "stdout",
     "output_type": "stream",
     "text": [
      "Ultralytics 8.3.51 🚀 Python-3.12.5 torch-2.5.1+cpu CPU (Intel Core(TM) i7-14700KF)\n",
      "YOLOv8s summary (fused): 168 layers, 11,129,067 parameters, 0 gradients, 28.5 GFLOPs\n",
      "\n",
      "image 1/1 c:\\Users\\Arthur\\3_ambiente_de_testes\\deteccao_objetos\\imagens_teste\\payload(1).jpg: 640x640 3 Bicycles, 3 Cars, 4 Stairss, 11 Traffic lights, 72.4ms\n",
      "Speed: 2.0ms preprocess, 72.4ms inference, 0.0ms postprocess per image at shape (1, 3, 640, 640)\n",
      "Results saved to \u001b[1mruns\\detect\\predict2\u001b[0m\n",
      "💡 Learn more at https://docs.ultralytics.com/modes/predict\n"
     ]
    }
   ],
   "source": [
    "!yolo task=detect mode=predict model=runs/detect/train5//weights/best.pt source='imagens_teste/payload(1).jpg' save=true conf=0.05"
   ]
  },
  {
   "cell_type": "code",
   "execution_count": null,
   "metadata": {},
   "outputs": [],
   "source": [
    "!yolo task=detect mode=predict model=runs/detect/train2//weights/best.pt source='imagens_teste' save=true"
   ]
  },
  {
   "cell_type": "markdown",
   "metadata": {
    "id": "s9hOs8fc8-Iz"
   },
   "source": [
    "## Enviar para o Google Drive"
   ]
  },
  {
   "cell_type": "code",
   "execution_count": null,
   "metadata": {
    "id": "UIi78IEKilVV"
   },
   "outputs": [],
   "source": [
    "!cp -R {dir_resultado} /content/gdrive/MyDrive/Cursos\\ -\\ recursos/YOLO/yolov8"
   ]
  },
  {
   "cell_type": "markdown",
   "metadata": {
    "id": "jwH_JTawG2_m"
   },
   "source": [
    "## Exportar para outros formatos"
   ]
  },
  {
   "cell_type": "code",
   "execution_count": null,
   "metadata": {
    "colab": {
     "base_uri": "https://localhost:8080/",
     "height": 56
    },
    "executionInfo": {
     "elapsed": 6,
     "status": "ok",
     "timestamp": 1675952541866,
     "user": {
      "displayName": "Jones Granatyr",
      "userId": "10042675233362078631"
     },
     "user_tz": 180
    },
    "id": "pFSwo1Utjjo2",
    "outputId": "975fce33-d012-4b50-cc3f-4fc28d187100"
   },
   "outputs": [
    {
     "data": {
      "application/vnd.google.colaboratory.intrinsic+json": {
       "type": "string"
      },
      "text/plain": [
       "'/content/runs/detect/yolov8s_modelo/weights/best.pt'"
      ]
     },
     "execution_count": 49,
     "metadata": {},
     "output_type": "execute_result"
    }
   ],
   "source": [
    "os.path.join(dir_resultado, 'weights', 'best.pt')"
   ]
  },
  {
   "cell_type": "code",
   "execution_count": null,
   "metadata": {
    "colab": {
     "base_uri": "https://localhost:8080/"
    },
    "executionInfo": {
     "elapsed": 16145,
     "status": "ok",
     "timestamp": 1675952587046,
     "user": {
      "displayName": "Jones Granatyr",
      "userId": "10042675233362078631"
     },
     "user_tz": 180
    },
    "id": "DwSZfpUXjT9_",
    "outputId": "09ac70f1-6fa3-4c7d-9445-7d87210cffb9"
   },
   "outputs": [
    {
     "name": "stderr",
     "output_type": "stream",
     "text": [
      "Ultralytics YOLOv8.0.32 🚀 Python-3.8.10 torch-1.13.1+cu116 CPU\n",
      "YOLOv8s summary (fused): 168 layers, 11126745 parameters, 0 gradients, 28.4 GFLOPs\n",
      "\n",
      "\u001b[34m\u001b[1mPyTorch:\u001b[0m starting from /content/runs/detect/yolov8s_modelo/weights/best.pt with input shape (1, 3, 640, 640) BCHW and output shape(s) (1, 7, 8400) (21.4 MB)\n",
      "\u001b[31m\u001b[1mrequirements:\u001b[0m YOLOv8 requirement \"onnx>=1.12.0\" not found, attempting AutoUpdate...\n",
      "Looking in indexes: https://pypi.org/simple, https://us-python.pkg.dev/colab-wheels/public/simple/\n",
      "Collecting onnx>=1.12.0\n",
      "  Downloading onnx-1.13.0-cp38-cp38-manylinux_2_17_x86_64.manylinux2014_x86_64.whl (13.5 MB)\n",
      "     ━━━━━━━━━━━━━━━━━━━━━━━━━━━━━━━━━━━━━━━━ 13.5/13.5 MB 96.5 MB/s eta 0:00:00\n",
      "Requirement already satisfied: typing-extensions>=3.6.2.1 in /usr/local/lib/python3.8/dist-packages (from onnx>=1.12.0) (4.4.0)\n",
      "Collecting protobuf<4,>=3.20.2\n",
      "  Downloading protobuf-3.20.3-cp38-cp38-manylinux_2_5_x86_64.manylinux1_x86_64.whl (1.0 MB)\n",
      "     ━━━━━━━━━━━━━━━━━━━━━━━━━━━━━━━━━━━━━━━━ 1.0/1.0 MB 70.5 MB/s eta 0:00:00\n",
      "Requirement already satisfied: numpy>=1.16.6 in /usr/local/lib/python3.8/dist-packages (from onnx>=1.12.0) (1.21.6)\n",
      "Installing collected packages: protobuf, onnx\n",
      "  Attempting uninstall: protobuf\n",
      "    Found existing installation: protobuf 3.19.6\n",
      "    Uninstalling protobuf-3.19.6:\n",
      "      Successfully uninstalled protobuf-3.19.6\n",
      "Successfully installed onnx-1.13.0 protobuf-3.20.3\n",
      "\n",
      "\u001b[31m\u001b[1mrequirements:\u001b[0m 1 package updated per ['onnx>=1.12.0']\n",
      "\u001b[31m\u001b[1mrequirements:\u001b[0m ⚠️ \u001b[1mRestart runtime or rerun command for updates to take effect\u001b[0m\n",
      "\n",
      "\n",
      "\u001b[34m\u001b[1mONNX:\u001b[0m starting export with onnx 1.13.0...\n",
      "\u001b[34m\u001b[1mONNX:\u001b[0m export success ✅ 14.3s, saved as /content/runs/detect/yolov8s_modelo/weights/best.onnx (42.6 MB)\n",
      "\n",
      "Export complete (15.6s)\n",
      "Results saved to \u001b[1m/content/runs/detect/yolov8s_modelo/weights\u001b[0m\n",
      "Predict:         yolo task=detect mode=predict model=/content/runs/detect/yolov8s_modelo/weights/best.onnx -WARNING ⚠️ not yet supported for YOLOv8 exported models\n",
      "Validate:        yolo task=detect mode=val model=/content/runs/detect/yolov8s_modelo/weights/best.onnx -WARNING ⚠️ not yet supported for YOLOv8 exported models\n",
      "Visualize:       https://netron.app\n"
     ]
    }
   ],
   "source": [
    "model_treinado = YOLO(os.path.join(dir_resultado, 'weights', 'best.pt'))\n",
    "model_treinado.export(format='onnx')"
   ]
  },
  {
   "cell_type": "markdown",
   "metadata": {
    "id": "DxIWAP2RH9qF"
   },
   "source": [
    "Confira a tabela com os formatos aceitos e qual o valor do parâmetro deve ser usado para salvar no formato específico\n",
    "\n",
    "| Format                                                                     | `format=`          | Model                     |\n",
    "|----------------------------------------------------------------------------|--------------------|---------------------------|\n",
    "| [PyTorch](https://pytorch.org/)                                            | -                  | `yolov8n.pt`              |\n",
    "| [TorchScript](https://pytorch.org/docs/stable/jit.html)                    | `torchscript`      | `yolov8n.torchscript`     |\n",
    "| [ONNX](https://onnx.ai/)                                                   | `onnx`             | `yolov8n.onnx`            |\n",
    "| [OpenVINO](https://docs.openvino.ai/latest/index.html)                     | `openvino`         | `yolov8n_openvino_model/` |\n",
    "| [TensorRT](https://developer.nvidia.com/tensorrt)                          | `engine`           | `yolov8n.engine`          |\n",
    "| [CoreML](https://github.com/apple/coremltools)                             | `coreml`           | `yolov8n.mlmodel`         |\n",
    "| [TensorFlow SavedModel](https://www.tensorflow.org/guide/saved_model)      | `saved_model`      | `yolov8n_saved_model/`    |\n",
    "| [TensorFlow GraphDef](https://www.tensorflow.org/api_docs/python/tf/Graph) | `pb`               | `yolov8n.pb`              |\n",
    "| [TensorFlow Lite](https://www.tensorflow.org/lite)                         | `tflite`           | `yolov8n.tflite`          |\n",
    "| [TensorFlow Edge TPU](https://coral.ai/docs/edgetpu/models-intro/)         | `edgetpu`          | `yolov8n_edgetpu.tflite`  |\n",
    "| [TensorFlow.js](https://www.tensorflow.org/js)                             | `tfjs`             | `yolov8n_web_model/`      |\n",
    "| [PaddlePaddle](https://github.com/PaddlePaddle)                            | `paddle`           | `yolov8n_paddle_model/`   |\n",
    "\n",
    "\n",
    "\n"
   ]
  }
 ],
 "metadata": {
  "accelerator": "GPU",
  "colab": {
   "provenance": [
    {
     "file_id": "1f9GLMLoGj04LuK_WyMqC0uiOteTpzKHJ",
     "timestamp": 1734699813124
    },
    {
     "file_id": "1g7t4LIF0lg3m827SRJBo31uXHqKQM2Fw",
     "timestamp": 1675691542245
    }
   ]
  },
  "gpuClass": "standard",
  "kernelspec": {
   "display_name": "Python 3",
   "name": "python3"
  },
  "language_info": {
   "codemirror_mode": {
    "name": "ipython",
    "version": 3
   },
   "file_extension": ".py",
   "mimetype": "text/x-python",
   "name": "python",
   "nbconvert_exporter": "python",
   "pygments_lexer": "ipython3",
   "version": "3.12.5"
  },
  "widgets": {
   "application/vnd.jupyter.widget-state+json": {
    "240d5a73405e49d4ab7ea0a93ba039ce": {
     "model_module": "@jupyter-widgets/base",
     "model_module_version": "1.2.0",
     "model_name": "LayoutModel",
     "state": {
      "_model_module": "@jupyter-widgets/base",
      "_model_module_version": "1.2.0",
      "_model_name": "LayoutModel",
      "_view_count": null,
      "_view_module": "@jupyter-widgets/base",
      "_view_module_version": "1.2.0",
      "_view_name": "LayoutView",
      "align_content": null,
      "align_items": null,
      "align_self": null,
      "border": null,
      "bottom": null,
      "display": null,
      "flex": null,
      "flex_flow": null,
      "grid_area": null,
      "grid_auto_columns": null,
      "grid_auto_flow": null,
      "grid_auto_rows": null,
      "grid_column": null,
      "grid_gap": null,
      "grid_row": null,
      "grid_template_areas": null,
      "grid_template_columns": null,
      "grid_template_rows": null,
      "height": null,
      "justify_content": null,
      "justify_items": null,
      "left": null,
      "margin": null,
      "max_height": null,
      "max_width": null,
      "min_height": null,
      "min_width": null,
      "object_fit": null,
      "object_position": null,
      "order": null,
      "overflow": null,
      "overflow_x": null,
      "overflow_y": null,
      "padding": null,
      "right": null,
      "top": null,
      "visibility": null,
      "width": null
     }
    },
    "3821e279f27444eab049ab1cf0e1101d": {
     "model_module": "@jupyter-widgets/controls",
     "model_module_version": "1.5.0",
     "model_name": "ProgressStyleModel",
     "state": {
      "_model_module": "@jupyter-widgets/controls",
      "_model_module_version": "1.5.0",
      "_model_name": "ProgressStyleModel",
      "_view_count": null,
      "_view_module": "@jupyter-widgets/base",
      "_view_module_version": "1.2.0",
      "_view_name": "StyleView",
      "bar_color": null,
      "description_width": ""
     }
    },
    "3e3c82bc1a5e4d2dbe7c639435d25178": {
     "model_module": "@jupyter-widgets/controls",
     "model_module_version": "1.5.0",
     "model_name": "HTMLModel",
     "state": {
      "_dom_classes": [],
      "_model_module": "@jupyter-widgets/controls",
      "_model_module_version": "1.5.0",
      "_model_name": "HTMLModel",
      "_view_count": null,
      "_view_module": "@jupyter-widgets/controls",
      "_view_module_version": "1.5.0",
      "_view_name": "HTMLView",
      "description": "",
      "description_tooltip": null,
      "layout": "IPY_MODEL_240d5a73405e49d4ab7ea0a93ba039ce",
      "placeholder": "​",
      "style": "IPY_MODEL_4ca98d48dd8c45489cddb0b085320298",
      "value": "100%"
     }
    },
    "4ca98d48dd8c45489cddb0b085320298": {
     "model_module": "@jupyter-widgets/controls",
     "model_module_version": "1.5.0",
     "model_name": "DescriptionStyleModel",
     "state": {
      "_model_module": "@jupyter-widgets/controls",
      "_model_module_version": "1.5.0",
      "_model_name": "DescriptionStyleModel",
      "_view_count": null,
      "_view_module": "@jupyter-widgets/base",
      "_view_module_version": "1.2.0",
      "_view_name": "StyleView",
      "description_width": ""
     }
    },
    "5882ea68f4134c5ea0cb47623f4c30d7": {
     "model_module": "@jupyter-widgets/controls",
     "model_module_version": "1.5.0",
     "model_name": "HBoxModel",
     "state": {
      "_dom_classes": [],
      "_model_module": "@jupyter-widgets/controls",
      "_model_module_version": "1.5.0",
      "_model_name": "HBoxModel",
      "_view_count": null,
      "_view_module": "@jupyter-widgets/controls",
      "_view_module_version": "1.5.0",
      "_view_name": "HBoxView",
      "box_style": "",
      "children": [
       "IPY_MODEL_3e3c82bc1a5e4d2dbe7c639435d25178",
       "IPY_MODEL_b15e8f84cd1b4ed58b20621bf837b79a",
       "IPY_MODEL_d1ce6f7bb6b94da3a8fa089bb79a5185"
      ],
      "layout": "IPY_MODEL_df243161f5b64f0197b65820882f4354"
     }
    },
    "761501c267fa40539c7d37643b6fbdc5": {
     "model_module": "@jupyter-widgets/base",
     "model_module_version": "1.2.0",
     "model_name": "LayoutModel",
     "state": {
      "_model_module": "@jupyter-widgets/base",
      "_model_module_version": "1.2.0",
      "_model_name": "LayoutModel",
      "_view_count": null,
      "_view_module": "@jupyter-widgets/base",
      "_view_module_version": "1.2.0",
      "_view_name": "LayoutView",
      "align_content": null,
      "align_items": null,
      "align_self": null,
      "border": null,
      "bottom": null,
      "display": null,
      "flex": null,
      "flex_flow": null,
      "grid_area": null,
      "grid_auto_columns": null,
      "grid_auto_flow": null,
      "grid_auto_rows": null,
      "grid_column": null,
      "grid_gap": null,
      "grid_row": null,
      "grid_template_areas": null,
      "grid_template_columns": null,
      "grid_template_rows": null,
      "height": null,
      "justify_content": null,
      "justify_items": null,
      "left": null,
      "margin": null,
      "max_height": null,
      "max_width": null,
      "min_height": null,
      "min_width": null,
      "object_fit": null,
      "object_position": null,
      "order": null,
      "overflow": null,
      "overflow_x": null,
      "overflow_y": null,
      "padding": null,
      "right": null,
      "top": null,
      "visibility": null,
      "width": null
     }
    },
    "84b559375b0f480287af7743b49b0388": {
     "model_module": "@jupyter-widgets/controls",
     "model_module_version": "1.5.0",
     "model_name": "DescriptionStyleModel",
     "state": {
      "_model_module": "@jupyter-widgets/controls",
      "_model_module_version": "1.5.0",
      "_model_name": "DescriptionStyleModel",
      "_view_count": null,
      "_view_module": "@jupyter-widgets/base",
      "_view_module_version": "1.2.0",
      "_view_name": "StyleView",
      "description_width": ""
     }
    },
    "b15e8f84cd1b4ed58b20621bf837b79a": {
     "model_module": "@jupyter-widgets/controls",
     "model_module_version": "1.5.0",
     "model_name": "FloatProgressModel",
     "state": {
      "_dom_classes": [],
      "_model_module": "@jupyter-widgets/controls",
      "_model_module_version": "1.5.0",
      "_model_name": "FloatProgressModel",
      "_view_count": null,
      "_view_module": "@jupyter-widgets/controls",
      "_view_module_version": "1.5.0",
      "_view_name": "ProgressView",
      "bar_style": "success",
      "description": "",
      "description_tooltip": null,
      "layout": "IPY_MODEL_761501c267fa40539c7d37643b6fbdc5",
      "max": 773236,
      "min": 0,
      "orientation": "horizontal",
      "style": "IPY_MODEL_3821e279f27444eab049ab1cf0e1101d",
      "value": 773236
     }
    },
    "d1ce6f7bb6b94da3a8fa089bb79a5185": {
     "model_module": "@jupyter-widgets/controls",
     "model_module_version": "1.5.0",
     "model_name": "HTMLModel",
     "state": {
      "_dom_classes": [],
      "_model_module": "@jupyter-widgets/controls",
      "_model_module_version": "1.5.0",
      "_model_name": "HTMLModel",
      "_view_count": null,
      "_view_module": "@jupyter-widgets/controls",
      "_view_module_version": "1.5.0",
      "_view_name": "HTMLView",
      "description": "",
      "description_tooltip": null,
      "layout": "IPY_MODEL_eb858a0134dc42029f63ac8c75b42718",
      "placeholder": "​",
      "style": "IPY_MODEL_84b559375b0f480287af7743b49b0388",
      "value": " 755k/755k [00:00&lt;00:00, 12.4MB/s]"
     }
    },
    "df243161f5b64f0197b65820882f4354": {
     "model_module": "@jupyter-widgets/base",
     "model_module_version": "1.2.0",
     "model_name": "LayoutModel",
     "state": {
      "_model_module": "@jupyter-widgets/base",
      "_model_module_version": "1.2.0",
      "_model_name": "LayoutModel",
      "_view_count": null,
      "_view_module": "@jupyter-widgets/base",
      "_view_module_version": "1.2.0",
      "_view_name": "LayoutView",
      "align_content": null,
      "align_items": null,
      "align_self": null,
      "border": null,
      "bottom": null,
      "display": null,
      "flex": null,
      "flex_flow": null,
      "grid_area": null,
      "grid_auto_columns": null,
      "grid_auto_flow": null,
      "grid_auto_rows": null,
      "grid_column": null,
      "grid_gap": null,
      "grid_row": null,
      "grid_template_areas": null,
      "grid_template_columns": null,
      "grid_template_rows": null,
      "height": null,
      "justify_content": null,
      "justify_items": null,
      "left": null,
      "margin": null,
      "max_height": null,
      "max_width": null,
      "min_height": null,
      "min_width": null,
      "object_fit": null,
      "object_position": null,
      "order": null,
      "overflow": null,
      "overflow_x": null,
      "overflow_y": null,
      "padding": null,
      "right": null,
      "top": null,
      "visibility": null,
      "width": null
     }
    },
    "eb858a0134dc42029f63ac8c75b42718": {
     "model_module": "@jupyter-widgets/base",
     "model_module_version": "1.2.0",
     "model_name": "LayoutModel",
     "state": {
      "_model_module": "@jupyter-widgets/base",
      "_model_module_version": "1.2.0",
      "_model_name": "LayoutModel",
      "_view_count": null,
      "_view_module": "@jupyter-widgets/base",
      "_view_module_version": "1.2.0",
      "_view_name": "LayoutView",
      "align_content": null,
      "align_items": null,
      "align_self": null,
      "border": null,
      "bottom": null,
      "display": null,
      "flex": null,
      "flex_flow": null,
      "grid_area": null,
      "grid_auto_columns": null,
      "grid_auto_flow": null,
      "grid_auto_rows": null,
      "grid_column": null,
      "grid_gap": null,
      "grid_row": null,
      "grid_template_areas": null,
      "grid_template_columns": null,
      "grid_template_rows": null,
      "height": null,
      "justify_content": null,
      "justify_items": null,
      "left": null,
      "margin": null,
      "max_height": null,
      "max_width": null,
      "min_height": null,
      "min_width": null,
      "object_fit": null,
      "object_position": null,
      "order": null,
      "overflow": null,
      "overflow_x": null,
      "overflow_y": null,
      "padding": null,
      "right": null,
      "top": null,
      "visibility": null,
      "width": null
     }
    }
   }
  }
 },
 "nbformat": 4,
 "nbformat_minor": 0
}
